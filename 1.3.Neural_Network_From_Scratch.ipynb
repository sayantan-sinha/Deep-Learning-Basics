{
  "nbformat": 4,
  "nbformat_minor": 0,
  "metadata": {
    "colab": {
      "name": "2. Neural Network From Scratch.ipynb",
      "provenance": [],
      "collapsed_sections": []
    },
    "kernelspec": {
      "name": "python3",
      "display_name": "Python 3"
    },
    "language_info": {
      "name": "python"
    }
  },
  "cells": [
    {
      "cell_type": "code",
      "execution_count": null,
      "metadata": {
        "id": "l4hHQM6EZ8ET"
      },
      "outputs": [],
      "source": [
        "import tensorflow as tf"
      ]
    },
    {
      "cell_type": "code",
      "source": [
        "import math"
      ],
      "metadata": {
        "id": "t_L1leHCflNg"
      },
      "execution_count": null,
      "outputs": []
    },
    {
      "cell_type": "code",
      "source": [
        "class NaiveDense:\n",
        "  def __init__(self, input_size, output_size, activation):\n",
        "    self.activation = activation\n",
        "\n",
        "    w_shape = (input_size, output_size)\n",
        "    w_initial_value = tf.random.uniform(w_shape, minval=0, maxval=1e-1)\n",
        "    self.W = tf.Variable(w_initial_value)\n",
        "\n",
        "    b_shape = (output_size, )\n",
        "    b_initial_value = tf.zeros(b_shape)\n",
        "    self.b = tf.Variable(b_initial_value)\n",
        "\n",
        "  def __call__(self, inputs):\n",
        "    return self.activation(tf.matmul(inputs, self.W) + self.b)\n",
        "\n",
        "  @property\n",
        "  def weights(self):\n",
        "    return [self.W, self.b]"
      ],
      "metadata": {
        "id": "sVV-x6ChaNjc"
      },
      "execution_count": null,
      "outputs": []
    },
    {
      "cell_type": "code",
      "source": [
        "class NaiveSequential:\n",
        "  def __init__(self, layers):\n",
        "    self.layers = layers\n",
        "\n",
        "  def __call__(self, inputs):\n",
        "    x = inputs\n",
        "    for layer in self.layers:\n",
        "      x = layer(x)\n",
        "    return x\n",
        "\n",
        "  @property\n",
        "  def weights(self):\n",
        "    weights = []\n",
        "    for layer in self.layers:\n",
        "      weights += layer.weights\n",
        "    return weights"
      ],
      "metadata": {
        "id": "9wLXkIRIbcpU"
      },
      "execution_count": null,
      "outputs": []
    },
    {
      "cell_type": "code",
      "source": [
        "model = NaiveSequential([\n",
        "                         NaiveDense(input_size=28 * 28, output_size=512, activation=tf.nn.relu),\n",
        "                         NaiveDense(input_size=512, output_size=10, activation=tf.nn.softmax)\n",
        "])\n",
        "\n",
        "assert len(model.weights) == 4"
      ],
      "metadata": {
        "id": "1vUXAbxqd3NT"
      },
      "execution_count": null,
      "outputs": []
    },
    {
      "cell_type": "code",
      "source": [
        "class BatchGenerator:\n",
        "  def __init__(self, images, labels, batch_size=128):\n",
        "    assert len(images) == len(labels)\n",
        "\n",
        "    self.index = 0\n",
        "    self.images = images\n",
        "    self.labels = labels\n",
        "    self.batch_size = batch_size\n",
        "    self.num_batches = math.ceil(len(images)/batch_size)\n",
        "\n",
        "  def next(self):\n",
        "    images = self.images[self.index: self.index + self.batch_size]\n",
        "    labels = self.labels[self.index: self.index + self.batch_size]\n",
        "\n",
        "    self.index += self.batch_size\n",
        "\n",
        "    return images, labels\n",
        "\n",
        "    "
      ],
      "metadata": {
        "id": "snNYnEAeexHq"
      },
      "execution_count": null,
      "outputs": []
    },
    {
      "cell_type": "code",
      "source": [
        "def one_training_step(model, images_batch, labels_batch):\n",
        "  with tf.GradientTape() as tape:\n",
        "    predictions = model(images_batch)\n",
        "    per_sample_losses = tf.keras.losses.sparse_categorical_crossentropy(\n",
        "        labels_batch, predictions)\n",
        "    \n",
        "    average_loss = tf.reduce_mean(per_sample_losses)\n",
        "  \n",
        "  gradients = tape.gradient(average_loss, model.weights)\n",
        "  update_weights(gradients, model.weights)\n",
        "\n",
        "  return average_loss"
      ],
      "metadata": {
        "id": "Mhb8BhQ-hCYY"
      },
      "execution_count": null,
      "outputs": []
    },
    {
      "cell_type": "code",
      "source": [
        "def update_weights(gradients, weights):\n",
        "  learning_rate = 1e-3\n",
        "  for g, w in zip(gradients, weights):\n",
        "    w.assign_sub(g*learning_rate)"
      ],
      "metadata": {
        "id": "9XAXRvLoiP6d"
      },
      "execution_count": null,
      "outputs": []
    },
    {
      "cell_type": "code",
      "source": [
        "from tensorflow.keras import optimizers\n",
        "optimizer = optimizers.SGD(learning_rate=1e-3)\n",
        "\n",
        "def update_weights(gradients, weights):\n",
        "  optimizer.apply_gradients(zip(gradients, weights))"
      ],
      "metadata": {
        "id": "FTh1KtSXix9Y"
      },
      "execution_count": null,
      "outputs": []
    },
    {
      "cell_type": "code",
      "source": [
        "def fit(model, images, labels, epochs, batch_size=128):\n",
        "  for epoch_ctr in range(epochs):\n",
        "    print(f\"Epoch: {epoch_ctr + 1}\")\n",
        "\n",
        "    batch_generator = BatchGenerator(images, labels)\n",
        "    for batch_ctr in range(batch_generator.num_batches):\n",
        "      images_batch, labels_batch = batch_generator.next()\n",
        "      loss = one_training_step(model, images_batch, labels_batch)\n",
        "      if batch_ctr % 100 == 0:\n",
        "        print(f\"Loss at batch {batch_ctr}: {loss:.4f}\")"
      ],
      "metadata": {
        "id": "kxPDjGwajQ8r"
      },
      "execution_count": null,
      "outputs": []
    },
    {
      "cell_type": "code",
      "source": [
        "from tensorflow.keras.datasets import mnist\n",
        "(train_images, train_labels), (test_images, test_labels) = mnist.load_data()\n",
        "\n",
        "train_images = train_images.reshape((len(train_images), 28*28))\n",
        "train_images = train_images.astype(\"float32\") / 255\n",
        "test_images = test_images.reshape((len(test_images), 28 * 28))\n",
        "test_images = test_images.astype(\"float32\") / 255\n",
        "\n",
        "fit(model, train_images, train_labels, epochs=20, batch_size=128)"
      ],
      "metadata": {
        "colab": {
          "base_uri": "https://localhost:8080/"
        },
        "id": "cy6SYfb5koKx",
        "outputId": "43d37e52-fefc-442a-86da-cffe26a1375b"
      },
      "execution_count": null,
      "outputs": [
        {
          "output_type": "stream",
          "name": "stdout",
          "text": [
            "Epoch: 0\n",
            "Loss at batch 0: 0.4869\n",
            "Loss at batch 100: 0.4863\n",
            "Loss at batch 200: 0.4194\n",
            "Loss at batch 300: 0.4922\n",
            "Loss at batch 400: 0.5937\n",
            "Epoch: 1\n",
            "Loss at batch 0: 0.4734\n",
            "Loss at batch 100: 0.4706\n",
            "Loss at batch 200: 0.4059\n",
            "Loss at batch 300: 0.4791\n",
            "Loss at batch 400: 0.5833\n",
            "Epoch: 2\n",
            "Loss at batch 0: 0.4612\n",
            "Loss at batch 100: 0.4566\n",
            "Loss at batch 200: 0.3939\n",
            "Loss at batch 300: 0.4673\n",
            "Loss at batch 400: 0.5740\n",
            "Epoch: 3\n",
            "Loss at batch 0: 0.4501\n",
            "Loss at batch 100: 0.4440\n",
            "Loss at batch 200: 0.3832\n",
            "Loss at batch 300: 0.4567\n",
            "Loss at batch 400: 0.5656\n",
            "Epoch: 4\n",
            "Loss at batch 0: 0.4400\n",
            "Loss at batch 100: 0.4325\n",
            "Loss at batch 200: 0.3736\n",
            "Loss at batch 300: 0.4471\n",
            "Loss at batch 400: 0.5580\n",
            "Epoch: 5\n",
            "Loss at batch 0: 0.4308\n",
            "Loss at batch 100: 0.4220\n",
            "Loss at batch 200: 0.3648\n",
            "Loss at batch 300: 0.4384\n",
            "Loss at batch 400: 0.5511\n",
            "Epoch: 6\n",
            "Loss at batch 0: 0.4224\n",
            "Loss at batch 100: 0.4125\n",
            "Loss at batch 200: 0.3569\n",
            "Loss at batch 300: 0.4304\n",
            "Loss at batch 400: 0.5447\n",
            "Epoch: 7\n",
            "Loss at batch 0: 0.4146\n",
            "Loss at batch 100: 0.4037\n",
            "Loss at batch 200: 0.3497\n",
            "Loss at batch 300: 0.4231\n",
            "Loss at batch 400: 0.5388\n",
            "Epoch: 8\n",
            "Loss at batch 0: 0.4074\n",
            "Loss at batch 100: 0.3955\n",
            "Loss at batch 200: 0.3431\n",
            "Loss at batch 300: 0.4164\n",
            "Loss at batch 400: 0.5334\n",
            "Epoch: 9\n",
            "Loss at batch 0: 0.4007\n",
            "Loss at batch 100: 0.3880\n",
            "Loss at batch 200: 0.3371\n",
            "Loss at batch 300: 0.4102\n",
            "Loss at batch 400: 0.5283\n",
            "Epoch: 10\n",
            "Loss at batch 0: 0.3944\n",
            "Loss at batch 100: 0.3810\n",
            "Loss at batch 200: 0.3315\n",
            "Loss at batch 300: 0.4045\n",
            "Loss at batch 400: 0.5235\n",
            "Epoch: 11\n",
            "Loss at batch 0: 0.3886\n",
            "Loss at batch 100: 0.3745\n",
            "Loss at batch 200: 0.3264\n",
            "Loss at batch 300: 0.3992\n",
            "Loss at batch 400: 0.5191\n",
            "Epoch: 12\n",
            "Loss at batch 0: 0.3832\n",
            "Loss at batch 100: 0.3685\n",
            "Loss at batch 200: 0.3216\n",
            "Loss at batch 300: 0.3943\n",
            "Loss at batch 400: 0.5149\n",
            "Epoch: 13\n",
            "Loss at batch 0: 0.3780\n",
            "Loss at batch 100: 0.3628\n",
            "Loss at batch 200: 0.3172\n",
            "Loss at batch 300: 0.3897\n",
            "Loss at batch 400: 0.5109\n",
            "Epoch: 14\n",
            "Loss at batch 0: 0.3732\n",
            "Loss at batch 100: 0.3574\n",
            "Loss at batch 200: 0.3131\n",
            "Loss at batch 300: 0.3854\n",
            "Loss at batch 400: 0.5072\n",
            "Epoch: 15\n",
            "Loss at batch 0: 0.3687\n",
            "Loss at batch 100: 0.3524\n",
            "Loss at batch 200: 0.3092\n",
            "Loss at batch 300: 0.3814\n",
            "Loss at batch 400: 0.5037\n",
            "Epoch: 16\n",
            "Loss at batch 0: 0.3644\n",
            "Loss at batch 100: 0.3476\n",
            "Loss at batch 200: 0.3056\n",
            "Loss at batch 300: 0.3777\n",
            "Loss at batch 400: 0.5003\n",
            "Epoch: 17\n",
            "Loss at batch 0: 0.3604\n",
            "Loss at batch 100: 0.3432\n",
            "Loss at batch 200: 0.3022\n",
            "Loss at batch 300: 0.3742\n",
            "Loss at batch 400: 0.4971\n",
            "Epoch: 18\n",
            "Loss at batch 0: 0.3565\n",
            "Loss at batch 100: 0.3389\n",
            "Loss at batch 200: 0.2991\n",
            "Loss at batch 300: 0.3709\n",
            "Loss at batch 400: 0.4940\n",
            "Epoch: 19\n",
            "Loss at batch 0: 0.3528\n",
            "Loss at batch 100: 0.3349\n",
            "Loss at batch 200: 0.2961\n",
            "Loss at batch 300: 0.3678\n",
            "Loss at batch 400: 0.4911\n"
          ]
        }
      ]
    },
    {
      "cell_type": "code",
      "source": [
        ""
      ],
      "metadata": {
        "id": "L4Rz43RTlCgf"
      },
      "execution_count": null,
      "outputs": []
    }
  ]
}
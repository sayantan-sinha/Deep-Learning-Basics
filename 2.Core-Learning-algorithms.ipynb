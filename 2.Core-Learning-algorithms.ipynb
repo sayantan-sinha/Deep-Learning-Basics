{
 "cells": [
  {
   "cell_type": "code",
   "execution_count": 1,
   "metadata": {},
   "outputs": [
    {
     "name": "stderr",
     "output_type": "stream",
     "text": [
      "E:\\Softwares\\Anaconda\\envs\\nlp\\lib\\site-packages\\numpy\\_distributor_init.py:32: UserWarning: loaded more than 1 DLL from .libs:\n",
      "E:\\Softwares\\Anaconda\\envs\\nlp\\lib\\site-packages\\numpy\\.libs\\libopenblas.WCDJNK7YVMPZQ2ME2ZZHJJRJ3JIKNDB7.gfortran-win_amd64.dll\n",
      "E:\\Softwares\\Anaconda\\envs\\nlp\\lib\\site-packages\\numpy\\.libs\\libopenblas.XWYDX2IKJW2NMTWSFYNGFUWKQU3LYTCZ.gfortran-win_amd64.dll\n",
      "  stacklevel=1)\n"
     ]
    },
    {
     "name": "stdout",
     "output_type": "stream",
     "text": [
      "<module 'tensorflow._api.v2.version' from 'C:\\\\Users\\\\sayan\\\\AppData\\\\Roaming\\\\Python\\\\Python37\\\\site-packages\\\\tensorflow\\\\_api\\\\v2\\\\version\\\\__init__.py'>\n",
      "Default GPU Device:/device:GPU:0\n"
     ]
    }
   ],
   "source": [
    "import tensorflow as tf\n",
    "print(tf.version)\n",
    "if tf.test.gpu_device_name(): \n",
    "    print(f'Default GPU Device:{tf.test.gpu_device_name()}')"
   ]
  },
  {
   "cell_type": "markdown",
   "metadata": {},
   "source": [
    "# Linear Regression"
   ]
  },
  {
   "cell_type": "code",
   "execution_count": 2,
   "metadata": {},
   "outputs": [],
   "source": [
    "from __future__ import absolute_import, division, print_function, unicode_literals\n",
    "import numpy as np\n",
    "import pandas as pd\n",
    "import matplotlib.pyplot as plt\n",
    "from IPython.display import clear_output\n",
    "from six.moves import urllib\n",
    "\n",
    "import tensorflow.compat.v2.feature_column as fc"
   ]
  },
  {
   "cell_type": "code",
   "execution_count": 9,
   "metadata": {},
   "outputs": [],
   "source": [
    "dftrain = pd.read_csv('https://storage.googleapis.com/tf-datasets/titanic/train.csv')\n",
    "dfeval = pd.read_csv('https://storage.googleapis.com/tf-datasets/titanic/eval.csv')\n",
    "y_train = dftrain.pop('survived')\n",
    "y_eval = dfeval.pop('survived')"
   ]
  },
  {
   "cell_type": "code",
   "execution_count": 10,
   "metadata": {},
   "outputs": [
    {
     "data": {
      "text/plain": [
       "0    0\n",
       "1    1\n",
       "2    1\n",
       "3    1\n",
       "4    0\n",
       "Name: survived, dtype: int64"
      ]
     },
     "execution_count": 10,
     "metadata": {},
     "output_type": "execute_result"
    }
   ],
   "source": [
    "y_train.head()"
   ]
  },
  {
   "cell_type": "code",
   "execution_count": 11,
   "metadata": {},
   "outputs": [
    {
     "data": {
      "text/html": [
       "<div>\n",
       "<style scoped>\n",
       "    .dataframe tbody tr th:only-of-type {\n",
       "        vertical-align: middle;\n",
       "    }\n",
       "\n",
       "    .dataframe tbody tr th {\n",
       "        vertical-align: top;\n",
       "    }\n",
       "\n",
       "    .dataframe thead th {\n",
       "        text-align: right;\n",
       "    }\n",
       "</style>\n",
       "<table border=\"1\" class=\"dataframe\">\n",
       "  <thead>\n",
       "    <tr style=\"text-align: right;\">\n",
       "      <th></th>\n",
       "      <th>sex</th>\n",
       "      <th>age</th>\n",
       "      <th>n_siblings_spouses</th>\n",
       "      <th>parch</th>\n",
       "      <th>fare</th>\n",
       "      <th>class</th>\n",
       "      <th>deck</th>\n",
       "      <th>embark_town</th>\n",
       "      <th>alone</th>\n",
       "    </tr>\n",
       "  </thead>\n",
       "  <tbody>\n",
       "    <tr>\n",
       "      <th>0</th>\n",
       "      <td>male</td>\n",
       "      <td>22.0</td>\n",
       "      <td>1</td>\n",
       "      <td>0</td>\n",
       "      <td>7.2500</td>\n",
       "      <td>Third</td>\n",
       "      <td>unknown</td>\n",
       "      <td>Southampton</td>\n",
       "      <td>n</td>\n",
       "    </tr>\n",
       "    <tr>\n",
       "      <th>1</th>\n",
       "      <td>female</td>\n",
       "      <td>38.0</td>\n",
       "      <td>1</td>\n",
       "      <td>0</td>\n",
       "      <td>71.2833</td>\n",
       "      <td>First</td>\n",
       "      <td>C</td>\n",
       "      <td>Cherbourg</td>\n",
       "      <td>n</td>\n",
       "    </tr>\n",
       "    <tr>\n",
       "      <th>2</th>\n",
       "      <td>female</td>\n",
       "      <td>26.0</td>\n",
       "      <td>0</td>\n",
       "      <td>0</td>\n",
       "      <td>7.9250</td>\n",
       "      <td>Third</td>\n",
       "      <td>unknown</td>\n",
       "      <td>Southampton</td>\n",
       "      <td>y</td>\n",
       "    </tr>\n",
       "    <tr>\n",
       "      <th>3</th>\n",
       "      <td>female</td>\n",
       "      <td>35.0</td>\n",
       "      <td>1</td>\n",
       "      <td>0</td>\n",
       "      <td>53.1000</td>\n",
       "      <td>First</td>\n",
       "      <td>C</td>\n",
       "      <td>Southampton</td>\n",
       "      <td>n</td>\n",
       "    </tr>\n",
       "    <tr>\n",
       "      <th>4</th>\n",
       "      <td>male</td>\n",
       "      <td>28.0</td>\n",
       "      <td>0</td>\n",
       "      <td>0</td>\n",
       "      <td>8.4583</td>\n",
       "      <td>Third</td>\n",
       "      <td>unknown</td>\n",
       "      <td>Queenstown</td>\n",
       "      <td>y</td>\n",
       "    </tr>\n",
       "  </tbody>\n",
       "</table>\n",
       "</div>"
      ],
      "text/plain": [
       "      sex   age  n_siblings_spouses  parch     fare  class     deck  \\\n",
       "0    male  22.0                   1      0   7.2500  Third  unknown   \n",
       "1  female  38.0                   1      0  71.2833  First        C   \n",
       "2  female  26.0                   0      0   7.9250  Third  unknown   \n",
       "3  female  35.0                   1      0  53.1000  First        C   \n",
       "4    male  28.0                   0      0   8.4583  Third  unknown   \n",
       "\n",
       "   embark_town alone  \n",
       "0  Southampton     n  \n",
       "1    Cherbourg     n  \n",
       "2  Southampton     y  \n",
       "3  Southampton     n  \n",
       "4   Queenstown     y  "
      ]
     },
     "execution_count": 11,
     "metadata": {},
     "output_type": "execute_result"
    }
   ],
   "source": [
    "dftrain.head()"
   ]
  },
  {
   "cell_type": "code",
   "execution_count": 24,
   "metadata": {},
   "outputs": [
    {
     "name": "stdout",
     "output_type": "stream",
     "text": [
      "sex                          male\n",
      "age                            22\n",
      "n_siblings_spouses              1\n",
      "parch                           0\n",
      "fare                         7.25\n",
      "class                       Third\n",
      "deck                      unknown\n",
      "embark_town           Southampton\n",
      "alone                           n\n",
      "Name: 0, dtype: object \n",
      " 0\n"
     ]
    }
   ],
   "source": [
    "print(dftrain.loc[0], '\\n', y_train.loc[0]) # locate row 0"
   ]
  },
  {
   "cell_type": "code",
   "execution_count": 25,
   "metadata": {},
   "outputs": [
    {
     "data": {
      "text/html": [
       "<div>\n",
       "<style scoped>\n",
       "    .dataframe tbody tr th:only-of-type {\n",
       "        vertical-align: middle;\n",
       "    }\n",
       "\n",
       "    .dataframe tbody tr th {\n",
       "        vertical-align: top;\n",
       "    }\n",
       "\n",
       "    .dataframe thead th {\n",
       "        text-align: right;\n",
       "    }\n",
       "</style>\n",
       "<table border=\"1\" class=\"dataframe\">\n",
       "  <thead>\n",
       "    <tr style=\"text-align: right;\">\n",
       "      <th></th>\n",
       "      <th>age</th>\n",
       "      <th>n_siblings_spouses</th>\n",
       "      <th>parch</th>\n",
       "      <th>fare</th>\n",
       "    </tr>\n",
       "  </thead>\n",
       "  <tbody>\n",
       "    <tr>\n",
       "      <th>count</th>\n",
       "      <td>627.000000</td>\n",
       "      <td>627.000000</td>\n",
       "      <td>627.000000</td>\n",
       "      <td>627.000000</td>\n",
       "    </tr>\n",
       "    <tr>\n",
       "      <th>mean</th>\n",
       "      <td>29.631308</td>\n",
       "      <td>0.545455</td>\n",
       "      <td>0.379585</td>\n",
       "      <td>34.385399</td>\n",
       "    </tr>\n",
       "    <tr>\n",
       "      <th>std</th>\n",
       "      <td>12.511818</td>\n",
       "      <td>1.151090</td>\n",
       "      <td>0.792999</td>\n",
       "      <td>54.597730</td>\n",
       "    </tr>\n",
       "    <tr>\n",
       "      <th>min</th>\n",
       "      <td>0.750000</td>\n",
       "      <td>0.000000</td>\n",
       "      <td>0.000000</td>\n",
       "      <td>0.000000</td>\n",
       "    </tr>\n",
       "    <tr>\n",
       "      <th>25%</th>\n",
       "      <td>23.000000</td>\n",
       "      <td>0.000000</td>\n",
       "      <td>0.000000</td>\n",
       "      <td>7.895800</td>\n",
       "    </tr>\n",
       "    <tr>\n",
       "      <th>50%</th>\n",
       "      <td>28.000000</td>\n",
       "      <td>0.000000</td>\n",
       "      <td>0.000000</td>\n",
       "      <td>15.045800</td>\n",
       "    </tr>\n",
       "    <tr>\n",
       "      <th>75%</th>\n",
       "      <td>35.000000</td>\n",
       "      <td>1.000000</td>\n",
       "      <td>0.000000</td>\n",
       "      <td>31.387500</td>\n",
       "    </tr>\n",
       "    <tr>\n",
       "      <th>max</th>\n",
       "      <td>80.000000</td>\n",
       "      <td>8.000000</td>\n",
       "      <td>5.000000</td>\n",
       "      <td>512.329200</td>\n",
       "    </tr>\n",
       "  </tbody>\n",
       "</table>\n",
       "</div>"
      ],
      "text/plain": [
       "              age  n_siblings_spouses       parch        fare\n",
       "count  627.000000          627.000000  627.000000  627.000000\n",
       "mean    29.631308            0.545455    0.379585   34.385399\n",
       "std     12.511818            1.151090    0.792999   54.597730\n",
       "min      0.750000            0.000000    0.000000    0.000000\n",
       "25%     23.000000            0.000000    0.000000    7.895800\n",
       "50%     28.000000            0.000000    0.000000   15.045800\n",
       "75%     35.000000            1.000000    0.000000   31.387500\n",
       "max     80.000000            8.000000    5.000000  512.329200"
      ]
     },
     "execution_count": 25,
     "metadata": {},
     "output_type": "execute_result"
    }
   ],
   "source": [
    "dftrain.describe()"
   ]
  },
  {
   "cell_type": "code",
   "execution_count": 26,
   "metadata": {},
   "outputs": [
    {
     "data": {
      "text/plain": [
       "(627, 9)"
      ]
     },
     "execution_count": 26,
     "metadata": {},
     "output_type": "execute_result"
    }
   ],
   "source": [
    "dftrain.shape"
   ]
  },
  {
   "cell_type": "markdown",
   "metadata": {},
   "source": [
    "### Plotting the data"
   ]
  },
  {
   "cell_type": "code",
   "execution_count": 27,
   "metadata": {},
   "outputs": [
    {
     "data": {
      "text/plain": [
       "<matplotlib.axes._subplots.AxesSubplot at 0x24edc232e88>"
      ]
     },
     "execution_count": 27,
     "metadata": {},
     "output_type": "execute_result"
    },
    {
     "data": {
      "image/png": "[encoded data removed]",
      "text/plain": [
       "<Figure size 432x288 with 1 Axes>"
      ]
     },
     "metadata": {
      "needs_background": "light"
     },
     "output_type": "display_data"
    }
   ],
   "source": [
    "dftrain.age.hist(bins=20)"
   ]
  },
  {
   "cell_type": "code",
   "execution_count": 33,
   "metadata": {},
   "outputs": [
    {
     "data": {
      "text/plain": [
       "<matplotlib.axes._subplots.AxesSubplot at 0x24ede7b5088>"
      ]
     },
     "execution_count": 33,
     "metadata": {},
     "output_type": "execute_result"
    },
    {
     "data": {
      "image/png": "[encoded data removed]",
      "text/plain": [
       "<Figure size 432x288 with 1 Axes>"
      ]
     },
     "metadata": {
      "needs_background": "light"
     },
     "output_type": "display_data"
    }
   ],
   "source": [
    "dftrain.sex.value_counts().plot(kind='bar')"
   ]
  },
  {
   "cell_type": "code",
   "execution_count": 34,
   "metadata": {},
   "outputs": [
    {
     "data": {
      "text/plain": [
       "<matplotlib.axes._subplots.AxesSubplot at 0x24ede4df4c8>"
      ]
     },
     "execution_count": 34,
     "metadata": {},
     "output_type": "execute_result"
    },
    {
     "data": {
      "image/png": "[encoded data removed]",
      "text/plain": [
       "<Figure size 432x288 with 1 Axes>"
      ]
     },
     "metadata": {
      "needs_background": "light"
     },
     "output_type": "display_data"
    }
   ],
   "source": [
    "dftrain['class'].value_counts().plot(kind='barh')"
   ]
  },
  {
   "cell_type": "code",
   "execution_count": 49,
   "metadata": {},
   "outputs": [
    {
     "data": {
      "text/plain": [
       "Text(0.5, 0, '% Survived')"
      ]
     },
     "execution_count": 49,
     "metadata": {},
     "output_type": "execute_result"
    },
    {
     "data": {
      "image/png": "[encoded data removed]",
      "text/plain": [
       "<Figure size 432x288 with 1 Axes>"
      ]
     },
     "metadata": {
      "needs_background": "light"
     },
     "output_type": "display_data"
    }
   ],
   "source": [
    "pd.concat([dftrain, y_train], axis=1).groupby('sex').mean()['survived'].plot(kind='barh').set_xlabel('% Survived')"
   ]
  },
  {
   "cell_type": "code",
   "execution_count": 50,
   "metadata": {},
   "outputs": [
    {
     "data": {
      "text/plain": [
       "<matplotlib.axes._subplots.AxesSubplot at 0x24ee0011808>"
      ]
     },
     "execution_count": 50,
     "metadata": {},
     "output_type": "execute_result"
    },
    {
     "data": {
      "image/png": "[encoded data removed]",
      "text/plain": [
       "<Figure size 432x288 with 1 Axes>"
      ]
     },
     "metadata": {
      "needs_background": "light"
     },
     "output_type": "display_data"
    }
   ],
   "source": [
    "dftrain['embark_town'].value_counts().plot(kind='bar')"
   ]
  },
  {
   "cell_type": "markdown",
   "metadata": {},
   "source": [
    "## Feature Columns"
   ]
  },
  {
   "cell_type": "code",
   "execution_count": 48,
   "metadata": {},
   "outputs": [
    {
     "name": "stdout",
     "output_type": "stream",
     "text": [
      "VocabularyListCategoricalColumn(key='sex', vocabulary_list=('male', 'female'), dtype=tf.string, default_value=-1, num_oov_buckets=0)\n",
      "VocabularyListCategoricalColumn(key='n_siblings_spouses', vocabulary_list=(1, 0, 3, 4, 2, 5, 8), dtype=tf.int64, default_value=-1, num_oov_buckets=0)\n",
      "VocabularyListCategoricalColumn(key='parch', vocabulary_list=(0, 1, 2, 5, 3, 4), dtype=tf.int64, default_value=-1, num_oov_buckets=0)\n",
      "VocabularyListCategoricalColumn(key='class', vocabulary_list=('Third', 'First', 'Second'), dtype=tf.string, default_value=-1, num_oov_buckets=0)\n",
      "VocabularyListCategoricalColumn(key='deck', vocabulary_list=('unknown', 'C', 'G', 'A', 'B', 'D', 'F', 'E'), dtype=tf.string, default_value=-1, num_oov_buckets=0)\n",
      "VocabularyListCategoricalColumn(key='embark_town', vocabulary_list=('Southampton', 'Cherbourg', 'Queenstown', 'unknown'), dtype=tf.string, default_value=-1, num_oov_buckets=0)\n",
      "VocabularyListCategoricalColumn(key='alone', vocabulary_list=('n', 'y'), dtype=tf.string, default_value=-1, num_oov_buckets=0)\n",
      "NumericColumn(key='age', shape=(1,), default_value=None, dtype=tf.float32, normalizer_fn=None)\n",
      "NumericColumn(key='fare', shape=(1,), default_value=None, dtype=tf.float32, normalizer_fn=None)\n"
     ]
    }
   ],
   "source": [
    "Categorical_columns = ['sex', 'n_siblings_spouses', 'parch', 'class', 'deck', 'embark_town', 'alone']\n",
    "Numeric_columns = ['age', 'fare']\n",
    "\n",
    "feature_columns = []\n",
    "\n",
    "for feature_name in Categorical_columns:\n",
    "    vocab = dftrain[feature_name].unique()\n",
    "    feature_columns.append(tf.feature_column.categorical_column_with_vocabulary_list(feature_name, vocab))\n",
    "    \n",
    "for feature_name in Numeric_columns:\n",
    "    feature_columns.append(tf.feature_column.numeric_column(feature_name, dtype=tf.float32))\n",
    "    \n",
    "for col in feature_columns:\n",
    "    print(col)"
   ]
  },
  {
   "cell_type": "code",
   "execution_count": 62,
   "metadata": {},
   "outputs": [],
   "source": [
    "def make_input_fn(data_df, label_df, num_epochs=50, shuffle=True, batch_size=32):\n",
    "    def input_function():\n",
    "        ds = tf.data.Dataset.from_tensor_slices((dict(data_df), label_df))\n",
    "        if shuffle:\n",
    "            ds = ds.shuffle(1000)\n",
    "        ds = ds.batch(batch_size).repeat(num_epochs)\n",
    "        return ds\n",
    "    return input_function"
   ]
  },
  {
   "cell_type": "code",
   "execution_count": 63,
   "metadata": {},
   "outputs": [],
   "source": [
    "train_input_fn = make_input_fn(dftrain, y_train)\n",
    "eval_input_fn = make_input_fn(dfeval, y_eval, num_epochs=1, shuffle=False)"
   ]
  },
  {
   "cell_type": "markdown",
   "metadata": {},
   "source": [
    "## Making the model"
   ]
  },
  {
   "cell_type": "code",
   "execution_count": 64,
   "metadata": {},
   "outputs": [
    {
     "name": "stdout",
     "output_type": "stream",
     "text": [
      "INFO:tensorflow:Using default config.\n",
      "WARNING:tensorflow:Using temporary folder as model directory: C:\\Users\\sayan\\AppData\\Local\\Temp\\tmphxy06ipt\n",
      "INFO:tensorflow:Using config: {'_model_dir': 'C:\\\\Users\\\\sayan\\\\AppData\\\\Local\\\\Temp\\\\tmphxy06ipt', '_tf_random_seed': None, '_save_summary_steps': 100, '_save_checkpoints_steps': None, '_save_checkpoints_secs': 600, '_session_config': allow_soft_placement: true\n",
      "graph_options {\n",
      "  rewrite_options {\n",
      "    meta_optimizer_iterations: ONE\n",
      "  }\n",
      "}\n",
      ", '_keep_checkpoint_max': 5, '_keep_checkpoint_every_n_hours': 10000, '_log_step_count_steps': 100, '_train_distribute': None, '_device_fn': None, '_protocol': None, '_eval_distribute': None, '_experimental_distribute': None, '_experimental_max_worker_delay_secs': None, '_session_creation_timeout_secs': 7200, '_checkpoint_save_graph_def': True, '_service': None, '_cluster_spec': ClusterSpec({}), '_task_type': 'worker', '_task_id': 0, '_global_id_in_cluster': 0, '_master': '', '_evaluation_master': '', '_is_chief': True, '_num_ps_replicas': 0, '_num_worker_replicas': 1}\n",
      "INFO:tensorflow:Calling model_fn.\n"
     ]
    },
    {
     "name": "stderr",
     "output_type": "stream",
     "text": [
      "C:\\Users\\sayan\\AppData\\Roaming\\Python\\Python37\\site-packages\\tensorflow_estimator\\python\\estimator\\canned\\linear.py:1478: UserWarning: `layer.add_variable` is deprecated and will be removed in a future version. Please use `layer.add_weight` method instead.\n",
      "  getter=tf.compat.v1.get_variable)\n"
     ]
    },
    {
     "name": "stdout",
     "output_type": "stream",
     "text": [
      "INFO:tensorflow:Done calling model_fn.\n",
      "INFO:tensorflow:Create CheckpointSaverHook.\n",
      "INFO:tensorflow:Graph was finalized.\n",
      "INFO:tensorflow:Running local_init_op.\n",
      "INFO:tensorflow:Done running local_init_op.\n",
      "INFO:tensorflow:Calling checkpoint listeners before saving checkpoint 0...\n",
      "INFO:tensorflow:Saving checkpoints for 0 into C:\\Users\\sayan\\AppData\\Local\\Temp\\tmphxy06ipt\\model.ckpt.\n",
      "INFO:tensorflow:Calling checkpoint listeners after saving checkpoint 0...\n",
      "INFO:tensorflow:loss = 0.6931472, step = 0\n",
      "INFO:tensorflow:global_step/sec: 23.0524\n",
      "INFO:tensorflow:loss = 0.4096706, step = 100 (4.339 sec)\n",
      "INFO:tensorflow:global_step/sec: 24.5045\n",
      "INFO:tensorflow:loss = 0.478348, step = 200 (4.080 sec)\n",
      "INFO:tensorflow:global_step/sec: 24.7605\n",
      "INFO:tensorflow:loss = 0.4682432, step = 300 (4.040 sec)\n",
      "INFO:tensorflow:global_step/sec: 25.0809\n",
      "INFO:tensorflow:loss = 0.3332498, step = 400 (3.986 sec)\n",
      "INFO:tensorflow:global_step/sec: 24.6575\n",
      "INFO:tensorflow:loss = 0.47775373, step = 500 (4.057 sec)\n",
      "INFO:tensorflow:global_step/sec: 24.8923\n",
      "INFO:tensorflow:loss = 0.42000788, step = 600 (4.017 sec)\n",
      "INFO:tensorflow:global_step/sec: 24.7332\n",
      "INFO:tensorflow:loss = 0.47940487, step = 700 (4.043 sec)\n",
      "INFO:tensorflow:global_step/sec: 24.9997\n",
      "INFO:tensorflow:loss = 0.35384077, step = 800 (4.000 sec)\n",
      "INFO:tensorflow:global_step/sec: 24.8197\n",
      "INFO:tensorflow:loss = 0.5064533, step = 900 (4.029 sec)\n",
      "INFO:tensorflow:Calling checkpoint listeners before saving checkpoint 1000...\n",
      "INFO:tensorflow:Saving checkpoints for 1000 into C:\\Users\\sayan\\AppData\\Local\\Temp\\tmphxy06ipt\\model.ckpt.\n",
      "INFO:tensorflow:Calling checkpoint listeners after saving checkpoint 1000...\n",
      "INFO:tensorflow:Loss for final step: 0.7817016.\n",
      "INFO:tensorflow:Calling model_fn.\n",
      "INFO:tensorflow:Done calling model_fn.\n",
      "INFO:tensorflow:Starting evaluation at 2022-03-27T16:29:47\n",
      "INFO:tensorflow:Graph was finalized.\n",
      "INFO:tensorflow:Restoring parameters from C:\\Users\\sayan\\AppData\\Local\\Temp\\tmphxy06ipt\\model.ckpt-1000\n",
      "INFO:tensorflow:Running local_init_op.\n",
      "INFO:tensorflow:Done running local_init_op.\n",
      "INFO:tensorflow:Inference Time : 1.12251s\n",
      "INFO:tensorflow:Finished evaluation at 2022-03-27-16:29:48\n",
      "INFO:tensorflow:Saving dict for global step 1000: accuracy = 0.77272725, accuracy_baseline = 0.625, auc = 0.83792466, auc_precision_recall = 0.7866394, average_loss = 0.47431496, global_step = 1000, label/mean = 0.375, loss = 0.4604926, precision = 0.6857143, prediction/mean = 0.41018006, recall = 0.72727275\n",
      "INFO:tensorflow:Saving 'checkpoint_path' summary for global step 1000: C:\\Users\\sayan\\AppData\\Local\\Temp\\tmphxy06ipt\\model.ckpt-1000\n"
     ]
    }
   ],
   "source": [
    "linear_est = tf.estimator.LinearClassifier(feature_columns=feature_columns)\n",
    "linear_est.train(train_input_fn)\n",
    "result = linear_est.evaluate(eval_input_fn)"
   ]
  },
  {
   "cell_type": "code",
   "execution_count": 65,
   "metadata": {},
   "outputs": [
    {
     "name": "stdout",
     "output_type": "stream",
     "text": [
      "0.77272725\n"
     ]
    }
   ],
   "source": [
    "print(result['accuracy'])"
   ]
  },
  {
   "cell_type": "code",
   "execution_count": 72,
   "metadata": {},
   "outputs": [
    {
     "name": "stdout",
     "output_type": "stream",
     "text": [
      "INFO:tensorflow:Calling model_fn.\n"
     ]
    },
    {
     "name": "stderr",
     "output_type": "stream",
     "text": [
      "C:\\Users\\sayan\\AppData\\Roaming\\Python\\Python37\\site-packages\\tensorflow_estimator\\python\\estimator\\canned\\linear.py:1478: UserWarning: `layer.add_variable` is deprecated and will be removed in a future version. Please use `layer.add_weight` method instead.\n",
      "  getter=tf.compat.v1.get_variable)\n"
     ]
    },
    {
     "name": "stdout",
     "output_type": "stream",
     "text": [
      "INFO:tensorflow:Done calling model_fn.\n",
      "INFO:tensorflow:Graph was finalized.\n",
      "INFO:tensorflow:Restoring parameters from C:\\Users\\sayan\\AppData\\Local\\Temp\\tmphxy06ipt\\model.ckpt-1000\n",
      "INFO:tensorflow:Running local_init_op.\n",
      "INFO:tensorflow:Done running local_init_op.\n",
      "{'logits': array([-2.5895982], dtype=float32), 'logistic': array([0.06981087], dtype=float32), 'probabilities': array([0.9301891 , 0.06981087], dtype=float32), 'class_ids': array([0], dtype=int64), 'classes': array([b'0'], dtype=object), 'all_class_ids': array([0, 1]), 'all_classes': array([b'0', b'1'], dtype=object)}\n",
      "{'logits': array([0.10221542], dtype=float32), 'logistic': array([0.5255316], dtype=float32), 'probabilities': array([0.47446835, 0.5255316 ], dtype=float32), 'class_ids': array([1], dtype=int64), 'classes': array([b'1'], dtype=object), 'all_class_ids': array([0, 1]), 'all_classes': array([b'0', b'1'], dtype=object)}\n",
      "{'logits': array([1.0847427], dtype=float32), 'logistic': array([0.74739045], dtype=float32), 'probabilities': array([0.25260955, 0.74739045], dtype=float32), 'class_ids': array([1], dtype=int64), 'classes': array([b'1'], dtype=object), 'all_class_ids': array([0, 1]), 'all_classes': array([b'0', b'1'], dtype=object)}\n",
      "{'logits': array([0.45446062], dtype=float32), 'logistic': array([0.6116993], dtype=float32), 'probabilities': array([0.38830075, 0.6116993 ], dtype=float32), 'class_ids': array([1], dtype=int64), 'classes': array([b'1'], dtype=object), 'all_class_ids': array([0, 1]), 'all_classes': array([b'0', b'1'], dtype=object)}\n",
      "{'logits': array([-1.0578367], dtype=float32), 'logistic': array([0.2577231], dtype=float32), 'probabilities': array([0.7422769 , 0.25772306], dtype=float32), 'class_ids': array([0], dtype=int64), 'classes': array([b'0'], dtype=object), 'all_class_ids': array([0, 1]), 'all_classes': array([b'0', b'1'], dtype=object)}\n"
     ]
    }
   ],
   "source": [
    "result = list(linear_est.predict(eval_input_fn))\n",
    "for res in result[:5]:\n",
    "    print(res)"
   ]
  },
  {
   "cell_type": "code",
   "execution_count": 68,
   "metadata": {},
   "outputs": [
    {
     "name": "stdout",
     "output_type": "stream",
     "text": [
      "0.9301891\n"
     ]
    }
   ],
   "source": [
    "print(result[0]['probabilities'][0]) # Not survive"
   ]
  },
  {
   "cell_type": "code",
   "execution_count": 71,
   "metadata": {},
   "outputs": [
    {
     "name": "stdout",
     "output_type": "stream",
     "text": [
      "sex                          male\n",
      "age                            35\n",
      "n_siblings_spouses              0\n",
      "parch                           0\n",
      "fare                         8.05\n",
      "class                       Third\n",
      "deck                      unknown\n",
      "embark_town           Southampton\n",
      "alone                           y\n",
      "Name: 0, dtype: object\n",
      "Probability of surviving:  0.06981087\n"
     ]
    }
   ],
   "source": [
    "print(dfeval.loc[0])\n",
    "print(\"Probability of surviving: \", result[0]['probabilities'][1]) # Survive"
   ]
  },
  {
   "cell_type": "markdown",
   "metadata": {},
   "source": [
    "## Using Tensorflow 2 for Linear Regression"
   ]
  },
  {
   "cell_type": "code",
   "execution_count": 73,
   "metadata": {},
   "outputs": [],
   "source": [
    "import matplotlib.pyplot as plt\n",
    "import numpy as np\n",
    "import pandas as pd\n",
    "import seaborn as sns"
   ]
  },
  {
   "cell_type": "code",
   "execution_count": 74,
   "metadata": {},
   "outputs": [],
   "source": [
    "np.set_printoptions(precision=3, suppress=True) # Make NumPy printouts easier to read."
   ]
  },
  {
   "cell_type": "code",
   "execution_count": 75,
   "metadata": {},
   "outputs": [
    {
     "name": "stdout",
     "output_type": "stream",
     "text": [
      "2.8.0\n"
     ]
    }
   ],
   "source": [
    "import tensorflow as tf\n",
    "\n",
    "from tensorflow import keras\n",
    "from tensorflow.keras import layers\n",
    "\n",
    "print(tf.__version__)"
   ]
  },
  {
   "cell_type": "code",
   "execution_count": 117,
   "metadata": {},
   "outputs": [
    {
     "data": {
      "text/html": [
       "<div>\n",
       "<style scoped>\n",
       "    .dataframe tbody tr th:only-of-type {\n",
       "        vertical-align: middle;\n",
       "    }\n",
       "\n",
       "    .dataframe tbody tr th {\n",
       "        vertical-align: top;\n",
       "    }\n",
       "\n",
       "    .dataframe thead th {\n",
       "        text-align: right;\n",
       "    }\n",
       "</style>\n",
       "<table border=\"1\" class=\"dataframe\">\n",
       "  <thead>\n",
       "    <tr style=\"text-align: right;\">\n",
       "      <th></th>\n",
       "      <th>MPG</th>\n",
       "      <th>Cylinders</th>\n",
       "      <th>Displacement</th>\n",
       "      <th>Horsepower</th>\n",
       "      <th>Weight</th>\n",
       "      <th>Acceleration</th>\n",
       "      <th>Model Year</th>\n",
       "      <th>Origin</th>\n",
       "    </tr>\n",
       "  </thead>\n",
       "  <tbody>\n",
       "    <tr>\n",
       "      <th>393</th>\n",
       "      <td>27.0</td>\n",
       "      <td>4</td>\n",
       "      <td>140.0</td>\n",
       "      <td>86.0</td>\n",
       "      <td>2790.0</td>\n",
       "      <td>15.6</td>\n",
       "      <td>82</td>\n",
       "      <td>1</td>\n",
       "    </tr>\n",
       "    <tr>\n",
       "      <th>394</th>\n",
       "      <td>44.0</td>\n",
       "      <td>4</td>\n",
       "      <td>97.0</td>\n",
       "      <td>52.0</td>\n",
       "      <td>2130.0</td>\n",
       "      <td>24.6</td>\n",
       "      <td>82</td>\n",
       "      <td>2</td>\n",
       "    </tr>\n",
       "    <tr>\n",
       "      <th>395</th>\n",
       "      <td>32.0</td>\n",
       "      <td>4</td>\n",
       "      <td>135.0</td>\n",
       "      <td>84.0</td>\n",
       "      <td>2295.0</td>\n",
       "      <td>11.6</td>\n",
       "      <td>82</td>\n",
       "      <td>1</td>\n",
       "    </tr>\n",
       "    <tr>\n",
       "      <th>396</th>\n",
       "      <td>28.0</td>\n",
       "      <td>4</td>\n",
       "      <td>120.0</td>\n",
       "      <td>79.0</td>\n",
       "      <td>2625.0</td>\n",
       "      <td>18.6</td>\n",
       "      <td>82</td>\n",
       "      <td>1</td>\n",
       "    </tr>\n",
       "    <tr>\n",
       "      <th>397</th>\n",
       "      <td>31.0</td>\n",
       "      <td>4</td>\n",
       "      <td>119.0</td>\n",
       "      <td>82.0</td>\n",
       "      <td>2720.0</td>\n",
       "      <td>19.4</td>\n",
       "      <td>82</td>\n",
       "      <td>1</td>\n",
       "    </tr>\n",
       "  </tbody>\n",
       "</table>\n",
       "</div>"
      ],
      "text/plain": [
       "      MPG  Cylinders  Displacement  Horsepower  Weight  Acceleration  \\\n",
       "393  27.0          4         140.0        86.0  2790.0          15.6   \n",
       "394  44.0          4          97.0        52.0  2130.0          24.6   \n",
       "395  32.0          4         135.0        84.0  2295.0          11.6   \n",
       "396  28.0          4         120.0        79.0  2625.0          18.6   \n",
       "397  31.0          4         119.0        82.0  2720.0          19.4   \n",
       "\n",
       "     Model Year  Origin  \n",
       "393          82       1  \n",
       "394          82       2  \n",
       "395          82       1  \n",
       "396          82       1  \n",
       "397          82       1  "
      ]
     },
     "execution_count": 117,
     "metadata": {},
     "output_type": "execute_result"
    }
   ],
   "source": [
    "url = 'http://archive.ics.uci.edu/ml/machine-learning-databases/auto-mpg/auto-mpg.data'\n",
    "column_names = ['MPG', 'Cylinders', 'Displacement', 'Horsepower', 'Weight',\n",
    "                'Acceleration', 'Model Year', 'Origin']\n",
    "df = pd.read_csv(url, names=column_names, sep=' ', skipinitialspace=True, na_values='?', comment='\\t')\n",
    "df.tail()"
   ]
  },
  {
   "cell_type": "code",
   "execution_count": 118,
   "metadata": {},
   "outputs": [
    {
     "data": {
      "text/plain": [
       "MPG             0\n",
       "Cylinders       0\n",
       "Displacement    0\n",
       "Horsepower      6\n",
       "Weight          0\n",
       "Acceleration    0\n",
       "Model Year      0\n",
       "Origin          0\n",
       "dtype: int64"
      ]
     },
     "execution_count": 118,
     "metadata": {},
     "output_type": "execute_result"
    }
   ],
   "source": [
    "df.isna().sum()"
   ]
  },
  {
   "cell_type": "code",
   "execution_count": 119,
   "metadata": {},
   "outputs": [],
   "source": [
    "df = df.dropna()"
   ]
  },
  {
   "cell_type": "code",
   "execution_count": 120,
   "metadata": {},
   "outputs": [],
   "source": [
    "df['Origin'] = df['Origin'].map({1: 'USA', 2: 'Europe', 3: 'Japan'})\n",
    "df = pd.get_dummies(df, columns=['Origin'], prefix='', prefix_sep='')"
   ]
  },
  {
   "cell_type": "code",
   "execution_count": 121,
   "metadata": {},
   "outputs": [
    {
     "data": {
      "text/html": [
       "<div>\n",
       "<style scoped>\n",
       "    .dataframe tbody tr th:only-of-type {\n",
       "        vertical-align: middle;\n",
       "    }\n",
       "\n",
       "    .dataframe tbody tr th {\n",
       "        vertical-align: top;\n",
       "    }\n",
       "\n",
       "    .dataframe thead th {\n",
       "        text-align: right;\n",
       "    }\n",
       "</style>\n",
       "<table border=\"1\" class=\"dataframe\">\n",
       "  <thead>\n",
       "    <tr style=\"text-align: right;\">\n",
       "      <th></th>\n",
       "      <th>MPG</th>\n",
       "      <th>Cylinders</th>\n",
       "      <th>Displacement</th>\n",
       "      <th>Horsepower</th>\n",
       "      <th>Weight</th>\n",
       "      <th>Acceleration</th>\n",
       "      <th>Model Year</th>\n",
       "      <th>Europe</th>\n",
       "      <th>Japan</th>\n",
       "      <th>USA</th>\n",
       "    </tr>\n",
       "  </thead>\n",
       "  <tbody>\n",
       "    <tr>\n",
       "      <th>393</th>\n",
       "      <td>27.0</td>\n",
       "      <td>4</td>\n",
       "      <td>140.0</td>\n",
       "      <td>86.0</td>\n",
       "      <td>2790.0</td>\n",
       "      <td>15.6</td>\n",
       "      <td>82</td>\n",
       "      <td>0</td>\n",
       "      <td>0</td>\n",
       "      <td>1</td>\n",
       "    </tr>\n",
       "    <tr>\n",
       "      <th>394</th>\n",
       "      <td>44.0</td>\n",
       "      <td>4</td>\n",
       "      <td>97.0</td>\n",
       "      <td>52.0</td>\n",
       "      <td>2130.0</td>\n",
       "      <td>24.6</td>\n",
       "      <td>82</td>\n",
       "      <td>1</td>\n",
       "      <td>0</td>\n",
       "      <td>0</td>\n",
       "    </tr>\n",
       "    <tr>\n",
       "      <th>395</th>\n",
       "      <td>32.0</td>\n",
       "      <td>4</td>\n",
       "      <td>135.0</td>\n",
       "      <td>84.0</td>\n",
       "      <td>2295.0</td>\n",
       "      <td>11.6</td>\n",
       "      <td>82</td>\n",
       "      <td>0</td>\n",
       "      <td>0</td>\n",
       "      <td>1</td>\n",
       "    </tr>\n",
       "    <tr>\n",
       "      <th>396</th>\n",
       "      <td>28.0</td>\n",
       "      <td>4</td>\n",
       "      <td>120.0</td>\n",
       "      <td>79.0</td>\n",
       "      <td>2625.0</td>\n",
       "      <td>18.6</td>\n",
       "      <td>82</td>\n",
       "      <td>0</td>\n",
       "      <td>0</td>\n",
       "      <td>1</td>\n",
       "    </tr>\n",
       "    <tr>\n",
       "      <th>397</th>\n",
       "      <td>31.0</td>\n",
       "      <td>4</td>\n",
       "      <td>119.0</td>\n",
       "      <td>82.0</td>\n",
       "      <td>2720.0</td>\n",
       "      <td>19.4</td>\n",
       "      <td>82</td>\n",
       "      <td>0</td>\n",
       "      <td>0</td>\n",
       "      <td>1</td>\n",
       "    </tr>\n",
       "  </tbody>\n",
       "</table>\n",
       "</div>"
      ],
      "text/plain": [
       "      MPG  Cylinders  Displacement  Horsepower  Weight  Acceleration  \\\n",
       "393  27.0          4         140.0        86.0  2790.0          15.6   \n",
       "394  44.0          4          97.0        52.0  2130.0          24.6   \n",
       "395  32.0          4         135.0        84.0  2295.0          11.6   \n",
       "396  28.0          4         120.0        79.0  2625.0          18.6   \n",
       "397  31.0          4         119.0        82.0  2720.0          19.4   \n",
       "\n",
       "     Model Year  Europe  Japan  USA  \n",
       "393          82       0      0    1  \n",
       "394          82       1      0    0  \n",
       "395          82       0      0    1  \n",
       "396          82       0      0    1  \n",
       "397          82       0      0    1  "
      ]
     },
     "execution_count": 121,
     "metadata": {},
     "output_type": "execute_result"
    }
   ],
   "source": [
    "df.tail()"
   ]
  },
  {
   "cell_type": "code",
   "execution_count": 122,
   "metadata": {},
   "outputs": [],
   "source": [
    "from sklearn.model_selection import train_test_split\n",
    "x_train, x_test, y_train, y_test = train_test_split(df.drop('MPG', axis=1), df['MPG'], test_size=0.2)"
   ]
  },
  {
   "cell_type": "code",
   "execution_count": 123,
   "metadata": {},
   "outputs": [
    {
     "data": {
      "text/html": [
       "<div>\n",
       "<style scoped>\n",
       "    .dataframe tbody tr th:only-of-type {\n",
       "        vertical-align: middle;\n",
       "    }\n",
       "\n",
       "    .dataframe tbody tr th {\n",
       "        vertical-align: top;\n",
       "    }\n",
       "\n",
       "    .dataframe thead th {\n",
       "        text-align: right;\n",
       "    }\n",
       "</style>\n",
       "<table border=\"1\" class=\"dataframe\">\n",
       "  <thead>\n",
       "    <tr style=\"text-align: right;\">\n",
       "      <th></th>\n",
       "      <th>Cylinders</th>\n",
       "      <th>Displacement</th>\n",
       "      <th>Horsepower</th>\n",
       "      <th>Weight</th>\n",
       "      <th>Acceleration</th>\n",
       "      <th>Model Year</th>\n",
       "      <th>Europe</th>\n",
       "      <th>Japan</th>\n",
       "      <th>USA</th>\n",
       "    </tr>\n",
       "  </thead>\n",
       "  <tbody>\n",
       "    <tr>\n",
       "      <th>1</th>\n",
       "      <td>8</td>\n",
       "      <td>350.0</td>\n",
       "      <td>165.0</td>\n",
       "      <td>3693.0</td>\n",
       "      <td>11.5</td>\n",
       "      <td>70</td>\n",
       "      <td>0</td>\n",
       "      <td>0</td>\n",
       "      <td>1</td>\n",
       "    </tr>\n",
       "    <tr>\n",
       "      <th>151</th>\n",
       "      <td>4</td>\n",
       "      <td>79.0</td>\n",
       "      <td>67.0</td>\n",
       "      <td>2000.0</td>\n",
       "      <td>16.0</td>\n",
       "      <td>74</td>\n",
       "      <td>1</td>\n",
       "      <td>0</td>\n",
       "      <td>0</td>\n",
       "    </tr>\n",
       "    <tr>\n",
       "      <th>266</th>\n",
       "      <td>4</td>\n",
       "      <td>98.0</td>\n",
       "      <td>68.0</td>\n",
       "      <td>2155.0</td>\n",
       "      <td>16.5</td>\n",
       "      <td>78</td>\n",
       "      <td>0</td>\n",
       "      <td>0</td>\n",
       "      <td>1</td>\n",
       "    </tr>\n",
       "    <tr>\n",
       "      <th>285</th>\n",
       "      <td>8</td>\n",
       "      <td>305.0</td>\n",
       "      <td>130.0</td>\n",
       "      <td>3840.0</td>\n",
       "      <td>15.4</td>\n",
       "      <td>79</td>\n",
       "      <td>0</td>\n",
       "      <td>0</td>\n",
       "      <td>1</td>\n",
       "    </tr>\n",
       "    <tr>\n",
       "      <th>116</th>\n",
       "      <td>8</td>\n",
       "      <td>400.0</td>\n",
       "      <td>230.0</td>\n",
       "      <td>4278.0</td>\n",
       "      <td>9.5</td>\n",
       "      <td>73</td>\n",
       "      <td>0</td>\n",
       "      <td>0</td>\n",
       "      <td>1</td>\n",
       "    </tr>\n",
       "  </tbody>\n",
       "</table>\n",
       "</div>"
      ],
      "text/plain": [
       "     Cylinders  Displacement  Horsepower  Weight  Acceleration  Model Year  \\\n",
       "1            8         350.0       165.0  3693.0          11.5          70   \n",
       "151          4          79.0        67.0  2000.0          16.0          74   \n",
       "266          4          98.0        68.0  2155.0          16.5          78   \n",
       "285          8         305.0       130.0  3840.0          15.4          79   \n",
       "116          8         400.0       230.0  4278.0           9.5          73   \n",
       "\n",
       "     Europe  Japan  USA  \n",
       "1         0      0    1  \n",
       "151       1      0    0  \n",
       "266       0      0    1  \n",
       "285       0      0    1  \n",
       "116       0      0    1  "
      ]
     },
     "execution_count": 123,
     "metadata": {},
     "output_type": "execute_result"
    }
   ],
   "source": [
    "x_train.head()"
   ]
  },
  {
   "cell_type": "code",
   "execution_count": 124,
   "metadata": {},
   "outputs": [
    {
     "data": {
      "text/html": [
       "<div>\n",
       "<style scoped>\n",
       "    .dataframe tbody tr th:only-of-type {\n",
       "        vertical-align: middle;\n",
       "    }\n",
       "\n",
       "    .dataframe tbody tr th {\n",
       "        vertical-align: top;\n",
       "    }\n",
       "\n",
       "    .dataframe thead th {\n",
       "        text-align: right;\n",
       "    }\n",
       "</style>\n",
       "<table border=\"1\" class=\"dataframe\">\n",
       "  <thead>\n",
       "    <tr style=\"text-align: right;\">\n",
       "      <th></th>\n",
       "      <th>count</th>\n",
       "      <th>mean</th>\n",
       "      <th>std</th>\n",
       "      <th>min</th>\n",
       "      <th>25%</th>\n",
       "      <th>50%</th>\n",
       "      <th>75%</th>\n",
       "      <th>max</th>\n",
       "    </tr>\n",
       "  </thead>\n",
       "  <tbody>\n",
       "    <tr>\n",
       "      <th>Cylinders</th>\n",
       "      <td>313.0</td>\n",
       "      <td>5.460064</td>\n",
       "      <td>1.686818</td>\n",
       "      <td>3.0</td>\n",
       "      <td>4.0</td>\n",
       "      <td>4.0</td>\n",
       "      <td>8.0</td>\n",
       "      <td>8.0</td>\n",
       "    </tr>\n",
       "    <tr>\n",
       "      <th>Displacement</th>\n",
       "      <td>313.0</td>\n",
       "      <td>193.257188</td>\n",
       "      <td>103.440983</td>\n",
       "      <td>68.0</td>\n",
       "      <td>105.0</td>\n",
       "      <td>146.0</td>\n",
       "      <td>262.0</td>\n",
       "      <td>455.0</td>\n",
       "    </tr>\n",
       "    <tr>\n",
       "      <th>Horsepower</th>\n",
       "      <td>313.0</td>\n",
       "      <td>103.715655</td>\n",
       "      <td>38.306527</td>\n",
       "      <td>46.0</td>\n",
       "      <td>76.0</td>\n",
       "      <td>92.0</td>\n",
       "      <td>122.0</td>\n",
       "      <td>230.0</td>\n",
       "    </tr>\n",
       "    <tr>\n",
       "      <th>Weight</th>\n",
       "      <td>313.0</td>\n",
       "      <td>2969.143770</td>\n",
       "      <td>851.914907</td>\n",
       "      <td>1613.0</td>\n",
       "      <td>2220.0</td>\n",
       "      <td>2789.0</td>\n",
       "      <td>3605.0</td>\n",
       "      <td>5140.0</td>\n",
       "    </tr>\n",
       "    <tr>\n",
       "      <th>Acceleration</th>\n",
       "      <td>313.0</td>\n",
       "      <td>15.553674</td>\n",
       "      <td>2.681285</td>\n",
       "      <td>8.0</td>\n",
       "      <td>14.0</td>\n",
       "      <td>15.5</td>\n",
       "      <td>17.0</td>\n",
       "      <td>24.8</td>\n",
       "    </tr>\n",
       "    <tr>\n",
       "      <th>Model Year</th>\n",
       "      <td>313.0</td>\n",
       "      <td>75.910543</td>\n",
       "      <td>3.755976</td>\n",
       "      <td>70.0</td>\n",
       "      <td>73.0</td>\n",
       "      <td>76.0</td>\n",
       "      <td>79.0</td>\n",
       "      <td>82.0</td>\n",
       "    </tr>\n",
       "    <tr>\n",
       "      <th>Europe</th>\n",
       "      <td>313.0</td>\n",
       "      <td>0.175719</td>\n",
       "      <td>0.381190</td>\n",
       "      <td>0.0</td>\n",
       "      <td>0.0</td>\n",
       "      <td>0.0</td>\n",
       "      <td>0.0</td>\n",
       "      <td>1.0</td>\n",
       "    </tr>\n",
       "    <tr>\n",
       "      <th>Japan</th>\n",
       "      <td>313.0</td>\n",
       "      <td>0.182109</td>\n",
       "      <td>0.386552</td>\n",
       "      <td>0.0</td>\n",
       "      <td>0.0</td>\n",
       "      <td>0.0</td>\n",
       "      <td>0.0</td>\n",
       "      <td>1.0</td>\n",
       "    </tr>\n",
       "    <tr>\n",
       "      <th>USA</th>\n",
       "      <td>313.0</td>\n",
       "      <td>0.642173</td>\n",
       "      <td>0.480129</td>\n",
       "      <td>0.0</td>\n",
       "      <td>0.0</td>\n",
       "      <td>1.0</td>\n",
       "      <td>1.0</td>\n",
       "      <td>1.0</td>\n",
       "    </tr>\n",
       "  </tbody>\n",
       "</table>\n",
       "</div>"
      ],
      "text/plain": [
       "              count         mean         std     min     25%     50%     75%  \\\n",
       "Cylinders     313.0     5.460064    1.686818     3.0     4.0     4.0     8.0   \n",
       "Displacement  313.0   193.257188  103.440983    68.0   105.0   146.0   262.0   \n",
       "Horsepower    313.0   103.715655   38.306527    46.0    76.0    92.0   122.0   \n",
       "Weight        313.0  2969.143770  851.914907  1613.0  2220.0  2789.0  3605.0   \n",
       "Acceleration  313.0    15.553674    2.681285     8.0    14.0    15.5    17.0   \n",
       "Model Year    313.0    75.910543    3.755976    70.0    73.0    76.0    79.0   \n",
       "Europe        313.0     0.175719    0.381190     0.0     0.0     0.0     0.0   \n",
       "Japan         313.0     0.182109    0.386552     0.0     0.0     0.0     0.0   \n",
       "USA           313.0     0.642173    0.480129     0.0     0.0     1.0     1.0   \n",
       "\n",
       "                 max  \n",
       "Cylinders        8.0  \n",
       "Displacement   455.0  \n",
       "Horsepower     230.0  \n",
       "Weight        5140.0  \n",
       "Acceleration    24.8  \n",
       "Model Year      82.0  \n",
       "Europe           1.0  \n",
       "Japan            1.0  \n",
       "USA              1.0  "
      ]
     },
     "execution_count": 124,
     "metadata": {},
     "output_type": "execute_result"
    }
   ],
   "source": [
    "x_train.describe().transpose()"
   ]
  },
  {
   "cell_type": "code",
   "execution_count": 125,
   "metadata": {},
   "outputs": [
    {
     "name": "stdout",
     "output_type": "stream",
     "text": [
      "WARNING:tensorflow:AutoGraph could not transform <function PreprocessingLayer.make_adapt_function.<locals>.adapt_step at 0x00000250174FB828> and will run it as-is.\n",
      "Please report this to the TensorFlow team. When filing the bug, set the verbosity to 10 (on Linux, `export AUTOGRAPH_VERBOSITY=10`) and attach the full output.\n",
      "Cause: 'arguments' object has no attribute 'posonlyargs'\n",
      "To silence this warning, decorate the function with @tf.autograph.experimental.do_not_convert\n",
      "WARNING: AutoGraph could not transform <function PreprocessingLayer.make_adapt_function.<locals>.adapt_step at 0x00000250174FB828> and will run it as-is.\n",
      "Please report this to the TensorFlow team. When filing the bug, set the verbosity to 10 (on Linux, `export AUTOGRAPH_VERBOSITY=10`) and attach the full output.\n",
      "Cause: 'arguments' object has no attribute 'posonlyargs'\n",
      "To silence this warning, decorate the function with @tf.autograph.experimental.do_not_convert\n",
      "[[   5.46   193.257  103.716 2969.144   15.554   75.911    0.176    0.182\n",
      "     0.642]]\n"
     ]
    }
   ],
   "source": [
    "normalizer = tf.keras.layers.Normalization(axis=-1)\n",
    "normalizer.adapt(np.array(x_train))\n",
    "print(normalizer.mean.numpy())"
   ]
  },
  {
   "cell_type": "code",
   "execution_count": 131,
   "metadata": {},
   "outputs": [],
   "source": [
    "first = np.array(x_train[:1])"
   ]
  },
  {
   "cell_type": "code",
   "execution_count": 134,
   "metadata": {},
   "outputs": [
    {
     "name": "stdout",
     "output_type": "stream",
     "text": [
      "Without normalisation:  [[   8.   350.   165.  3693.    11.5   70.     0.     0.     1. ]]\n",
      "With normalisation:  [[ 1.51  1.52  1.6   0.85 -1.51 -1.58 -0.46 -0.47  0.75]]\n"
     ]
    }
   ],
   "source": [
    "with np.printoptions(precision=2, suppress=True):\n",
    "    print(\"Without normalisation: \", first)\n",
    "    print(\"With normalisation: \", np.array(normalizer(first)))"
   ]
  },
  {
   "cell_type": "markdown",
   "metadata": {},
   "source": [
    "### Linear regression with one variable"
   ]
  },
  {
   "cell_type": "code",
   "execution_count": 139,
   "metadata": {},
   "outputs": [
    {
     "name": "stdout",
     "output_type": "stream",
     "text": [
      "WARNING:tensorflow:AutoGraph could not transform <function PreprocessingLayer.make_adapt_function.<locals>.adapt_step at 0x0000025016F0AAF8> and will run it as-is.\n",
      "Please report this to the TensorFlow team. When filing the bug, set the verbosity to 10 (on Linux, `export AUTOGRAPH_VERBOSITY=10`) and attach the full output.\n",
      "Cause: 'arguments' object has no attribute 'posonlyargs'\n",
      "To silence this warning, decorate the function with @tf.autograph.experimental.do_not_convert\n",
      "WARNING: AutoGraph could not transform <function PreprocessingLayer.make_adapt_function.<locals>.adapt_step at 0x0000025016F0AAF8> and will run it as-is.\n",
      "Please report this to the TensorFlow team. When filing the bug, set the verbosity to 10 (on Linux, `export AUTOGRAPH_VERBOSITY=10`) and attach the full output.\n",
      "Cause: 'arguments' object has no attribute 'posonlyargs'\n",
      "To silence this warning, decorate the function with @tf.autograph.experimental.do_not_convert\n"
     ]
    }
   ],
   "source": [
    "hp = np.array(x_train['Horsepower'])\n",
    "hp_normalizer = layers.Normalization(input_shape=[1,], axis=None)\n",
    "hp_normalizer.adapt(hp)"
   ]
  },
  {
   "cell_type": "code",
   "execution_count": 153,
   "metadata": {},
   "outputs": [
    {
     "name": "stdout",
     "output_type": "stream",
     "text": [
      "Model: \"sequential_2\"\n",
      "_________________________________________________________________\n",
      " Layer (type)                Output Shape              Param #   \n",
      "=================================================================\n",
      " normalization_7 (Normalizat  (None, 1)                3         \n",
      " ion)                                                            \n",
      "                                                                 \n",
      " dense_2 (Dense)             (None, 1)                 2         \n",
      "                                                                 \n",
      "=================================================================\n",
      "Total params: 5\n",
      "Trainable params: 2\n",
      "Non-trainable params: 3\n",
      "_________________________________________________________________\n"
     ]
    }
   ],
   "source": [
    "hp_model = tf.keras.Sequential([\n",
    "    hp_normalizer,\n",
    "    layers.Dense(units=1)\n",
    "])\n",
    "\n",
    "hp_model.summary()"
   ]
  },
  {
   "cell_type": "code",
   "execution_count": 154,
   "metadata": {},
   "outputs": [],
   "source": [
    "hp_model.compile(\n",
    "optimizer=tf.optimizers.Adam(learning_rate=0.1),\n",
    "loss='mean_absolute_error')"
   ]
  },
  {
   "cell_type": "code",
   "execution_count": 155,
   "metadata": {},
   "outputs": [
    {
     "name": "stdout",
     "output_type": "stream",
     "text": [
      "Epoch 1/100\n",
      "WARNING:tensorflow:AutoGraph could not transform <function Model.make_train_function.<locals>.train_function at 0x0000025018421DC8> and will run it as-is.\n",
      "Please report this to the TensorFlow team. When filing the bug, set the verbosity to 10 (on Linux, `export AUTOGRAPH_VERBOSITY=10`) and attach the full output.\n",
      "Cause: 'arguments' object has no attribute 'posonlyargs'\n",
      "To silence this warning, decorate the function with @tf.autograph.experimental.do_not_convert\n",
      "WARNING: AutoGraph could not transform <function Model.make_train_function.<locals>.train_function at 0x0000025018421DC8> and will run it as-is.\n",
      "Please report this to the TensorFlow team. When filing the bug, set the verbosity to 10 (on Linux, `export AUTOGRAPH_VERBOSITY=10`) and attach the full output.\n",
      "Cause: 'arguments' object has no attribute 'posonlyargs'\n",
      "To silence this warning, decorate the function with @tf.autograph.experimental.do_not_convert\n",
      "1/8 [==>...........................] - ETA: 1s - loss: 24.3705WARNING:tensorflow:AutoGraph could not transform <function Model.make_test_function.<locals>.test_function at 0x0000024FFCF13DC8> and will run it as-is.\n",
      "Please report this to the TensorFlow team. When filing the bug, set the verbosity to 10 (on Linux, `export AUTOGRAPH_VERBOSITY=10`) and attach the full output.\n",
      "Cause: 'arguments' object has no attribute 'posonlyargs'\n",
      "To silence this warning, decorate the function with @tf.autograph.experimental.do_not_convert\n",
      "WARNING: AutoGraph could not transform <function Model.make_test_function.<locals>.test_function at 0x0000024FFCF13DC8> and will run it as-is.\n",
      "Please report this to the TensorFlow team. When filing the bug, set the verbosity to 10 (on Linux, `export AUTOGRAPH_VERBOSITY=10`) and attach the full output.\n",
      "Cause: 'arguments' object has no attribute 'posonlyargs'\n",
      "To silence this warning, decorate the function with @tf.autograph.experimental.do_not_convert\n",
      "8/8 [==============================] - 0s 19ms/step - loss: 23.1255 - val_loss: 22.5632\n",
      "Epoch 2/100\n",
      "8/8 [==============================] - 0s 9ms/step - loss: 22.3229 - val_loss: 21.7691\n",
      "Epoch 3/100\n",
      "8/8 [==============================] - 0s 9ms/step - loss: 21.5191 - val_loss: 20.9745\n",
      "Epoch 4/100\n",
      "8/8 [==============================] - 0s 9ms/step - loss: 20.7175 - val_loss: 20.1777\n",
      "Epoch 5/100\n",
      "8/8 [==============================] - 0s 9ms/step - loss: 19.9167 - val_loss: 19.3798\n",
      "Epoch 6/100\n",
      "8/8 [==============================] - 0s 8ms/step - loss: 19.1181 - val_loss: 18.5806\n",
      "Epoch 7/100\n",
      "8/8 [==============================] - 0s 8ms/step - loss: 18.3154 - val_loss: 17.7899\n",
      "Epoch 8/100\n",
      "8/8 [==============================] - 0s 9ms/step - loss: 17.5195 - val_loss: 17.0187\n",
      "Epoch 9/100\n",
      "8/8 [==============================] - 0s 9ms/step - loss: 16.7362 - val_loss: 16.2522\n",
      "Epoch 10/100\n",
      "8/8 [==============================] - 0s 9ms/step - loss: 15.9622 - val_loss: 15.4494\n",
      "Epoch 11/100\n",
      "8/8 [==============================] - 0s 9ms/step - loss: 15.1749 - val_loss: 14.6597\n",
      "Epoch 12/100\n",
      "8/8 [==============================] - 0s 9ms/step - loss: 14.4081 - val_loss: 13.8471\n",
      "Epoch 13/100\n",
      "8/8 [==============================] - 0s 9ms/step - loss: 13.6241 - val_loss: 13.0433\n",
      "Epoch 14/100\n",
      "8/8 [==============================] - 0s 9ms/step - loss: 12.8413 - val_loss: 12.2463\n",
      "Epoch 15/100\n",
      "8/8 [==============================] - 0s 9ms/step - loss: 12.0658 - val_loss: 11.4366\n",
      "Epoch 16/100\n",
      "8/8 [==============================] - 0s 8ms/step - loss: 11.2934 - val_loss: 10.6157\n",
      "Epoch 17/100\n",
      "8/8 [==============================] - 0s 9ms/step - loss: 10.5084 - val_loss: 9.8133\n",
      "Epoch 18/100\n",
      "8/8 [==============================] - 0s 9ms/step - loss: 9.7370 - val_loss: 9.0168\n",
      "Epoch 19/100\n",
      "8/8 [==============================] - 0s 9ms/step - loss: 9.0082 - val_loss: 8.2219\n",
      "Epoch 20/100\n",
      "8/8 [==============================] - 0s 9ms/step - loss: 8.2969 - val_loss: 7.4449\n",
      "Epoch 21/100\n",
      "8/8 [==============================] - 0s 9ms/step - loss: 7.6068 - val_loss: 6.7125\n",
      "Epoch 22/100\n",
      "8/8 [==============================] - 0s 9ms/step - loss: 6.9611 - val_loss: 6.0343\n",
      "Epoch 23/100\n",
      "8/8 [==============================] - 0s 9ms/step - loss: 6.3629 - val_loss: 5.4405\n",
      "Epoch 24/100\n",
      "8/8 [==============================] - 0s 9ms/step - loss: 5.8444 - val_loss: 4.9475\n",
      "Epoch 25/100\n",
      "8/8 [==============================] - 0s 9ms/step - loss: 5.4075 - val_loss: 4.5629\n",
      "Epoch 26/100\n",
      "8/8 [==============================] - 0s 9ms/step - loss: 5.0701 - val_loss: 4.2643\n",
      "Epoch 27/100\n",
      "8/8 [==============================] - 0s 9ms/step - loss: 4.7559 - val_loss: 4.0432\n",
      "Epoch 28/100\n",
      "8/8 [==============================] - 0s 8ms/step - loss: 4.5181 - val_loss: 3.8580\n",
      "Epoch 29/100\n",
      "8/8 [==============================] - 0s 9ms/step - loss: 4.3303 - val_loss: 3.6996\n",
      "Epoch 30/100\n",
      "8/8 [==============================] - 0s 8ms/step - loss: 4.1761 - val_loss: 3.6023\n",
      "Epoch 31/100\n",
      "8/8 [==============================] - 0s 9ms/step - loss: 4.0614 - val_loss: 3.5474\n",
      "Epoch 32/100\n",
      "8/8 [==============================] - 0s 9ms/step - loss: 3.9898 - val_loss: 3.5156\n",
      "Epoch 33/100\n",
      "8/8 [==============================] - 0s 9ms/step - loss: 3.9414 - val_loss: 3.4948\n",
      "Epoch 34/100\n",
      "8/8 [==============================] - 0s 9ms/step - loss: 3.9068 - val_loss: 3.5000\n",
      "Epoch 35/100\n",
      "8/8 [==============================] - 0s 8ms/step - loss: 3.8807 - val_loss: 3.5159\n",
      "Epoch 36/100\n",
      "8/8 [==============================] - 0s 9ms/step - loss: 3.8534 - val_loss: 3.5361\n",
      "Epoch 37/100\n",
      "8/8 [==============================] - 0s 9ms/step - loss: 3.8401 - val_loss: 3.5377\n",
      "Epoch 38/100\n",
      "8/8 [==============================] - 0s 8ms/step - loss: 3.8311 - val_loss: 3.5504\n",
      "Epoch 39/100\n",
      "8/8 [==============================] - 0s 9ms/step - loss: 3.8234 - val_loss: 3.5613\n",
      "Epoch 40/100\n",
      "8/8 [==============================] - 0s 9ms/step - loss: 3.8148 - val_loss: 3.5574\n",
      "Epoch 41/100\n",
      "8/8 [==============================] - 0s 9ms/step - loss: 3.8123 - val_loss: 3.5654\n",
      "Epoch 42/100\n",
      "8/8 [==============================] - 0s 9ms/step - loss: 3.8065 - val_loss: 3.5702\n",
      "Epoch 43/100\n",
      "8/8 [==============================] - 0s 9ms/step - loss: 3.8021 - val_loss: 3.5852\n",
      "Epoch 44/100\n",
      "8/8 [==============================] - 0s 9ms/step - loss: 3.7993 - val_loss: 3.5875\n",
      "Epoch 45/100\n",
      "8/8 [==============================] - 0s 9ms/step - loss: 3.8021 - val_loss: 3.6151\n",
      "Epoch 46/100\n",
      "8/8 [==============================] - 0s 9ms/step - loss: 3.7938 - val_loss: 3.6118\n",
      "Epoch 47/100\n",
      "8/8 [==============================] - 0s 9ms/step - loss: 3.7973 - val_loss: 3.6052\n",
      "Epoch 48/100\n",
      "8/8 [==============================] - 0s 9ms/step - loss: 3.7962 - val_loss: 3.6048\n",
      "Epoch 49/100\n",
      "8/8 [==============================] - 0s 9ms/step - loss: 3.7944 - val_loss: 3.6065\n",
      "Epoch 50/100\n",
      "8/8 [==============================] - 0s 9ms/step - loss: 3.7957 - val_loss: 3.6117\n",
      "Epoch 51/100\n",
      "8/8 [==============================] - 0s 9ms/step - loss: 3.7955 - val_loss: 3.6141\n",
      "Epoch 52/100\n",
      "8/8 [==============================] - 0s 9ms/step - loss: 3.7964 - val_loss: 3.6154\n",
      "Epoch 53/100\n",
      "8/8 [==============================] - 0s 9ms/step - loss: 3.7938 - val_loss: 3.6095\n",
      "Epoch 54/100\n",
      "8/8 [==============================] - 0s 9ms/step - loss: 3.7968 - val_loss: 3.6191\n",
      "Epoch 55/100\n",
      "8/8 [==============================] - 0s 10ms/step - loss: 3.8007 - val_loss: 3.5989\n",
      "Epoch 56/100\n",
      "8/8 [==============================] - 0s 9ms/step - loss: 3.7943 - val_loss: 3.6000\n",
      "Epoch 57/100\n",
      "8/8 [==============================] - 0s 9ms/step - loss: 3.7947 - val_loss: 3.6055\n",
      "Epoch 58/100\n",
      "8/8 [==============================] - 0s 10ms/step - loss: 3.7944 - val_loss: 3.6037\n",
      "Epoch 59/100\n",
      "8/8 [==============================] - 0s 9ms/step - loss: 3.7961 - val_loss: 3.6027\n",
      "Epoch 60/100\n",
      "8/8 [==============================] - 0s 9ms/step - loss: 3.7936 - val_loss: 3.6072\n",
      "Epoch 61/100\n",
      "8/8 [==============================] - 0s 9ms/step - loss: 3.7954 - val_loss: 3.6126\n",
      "Epoch 62/100\n",
      "8/8 [==============================] - 0s 9ms/step - loss: 3.7960 - val_loss: 3.6074\n",
      "Epoch 63/100\n",
      "8/8 [==============================] - 0s 9ms/step - loss: 3.7941 - val_loss: 3.6111\n",
      "Epoch 64/100\n",
      "8/8 [==============================] - 0s 9ms/step - loss: 3.7934 - val_loss: 3.6104\n",
      "Epoch 65/100\n",
      "8/8 [==============================] - 0s 9ms/step - loss: 3.7960 - val_loss: 3.6072\n",
      "Epoch 66/100\n",
      "8/8 [==============================] - 0s 9ms/step - loss: 3.7946 - val_loss: 3.6059\n",
      "Epoch 67/100\n",
      "8/8 [==============================] - 0s 9ms/step - loss: 3.7951 - val_loss: 3.6052\n",
      "Epoch 68/100\n",
      "8/8 [==============================] - 0s 9ms/step - loss: 3.7947 - val_loss: 3.6118\n",
      "Epoch 69/100\n",
      "8/8 [==============================] - 0s 9ms/step - loss: 3.7935 - val_loss: 3.6091\n",
      "Epoch 70/100\n",
      "8/8 [==============================] - 0s 9ms/step - loss: 3.7939 - val_loss: 3.6092\n",
      "Epoch 71/100\n",
      "8/8 [==============================] - 0s 9ms/step - loss: 3.7947 - val_loss: 3.6213\n",
      "Epoch 72/100\n",
      "8/8 [==============================] - 0s 9ms/step - loss: 3.7950 - val_loss: 3.6132\n",
      "Epoch 73/100\n",
      "8/8 [==============================] - 0s 9ms/step - loss: 3.7929 - val_loss: 3.6160\n",
      "Epoch 74/100\n",
      "8/8 [==============================] - 0s 9ms/step - loss: 3.7960 - val_loss: 3.6078\n",
      "Epoch 75/100\n",
      "8/8 [==============================] - 0s 9ms/step - loss: 3.7946 - val_loss: 3.6086\n",
      "Epoch 76/100\n",
      "8/8 [==============================] - 0s 9ms/step - loss: 3.7935 - val_loss: 3.6152\n",
      "Epoch 77/100\n",
      "8/8 [==============================] - 0s 9ms/step - loss: 3.7940 - val_loss: 3.6198\n",
      "Epoch 78/100\n",
      "8/8 [==============================] - 0s 9ms/step - loss: 3.7941 - val_loss: 3.6123\n",
      "Epoch 79/100\n",
      "8/8 [==============================] - 0s 9ms/step - loss: 3.7940 - val_loss: 3.6156\n",
      "Epoch 80/100\n",
      "8/8 [==============================] - 0s 9ms/step - loss: 3.7937 - val_loss: 3.6156\n",
      "Epoch 81/100\n",
      "8/8 [==============================] - 0s 9ms/step - loss: 3.7963 - val_loss: 3.6070\n",
      "Epoch 82/100\n",
      "8/8 [==============================] - 0s 9ms/step - loss: 3.7953 - val_loss: 3.6013\n",
      "Epoch 83/100\n",
      "8/8 [==============================] - 0s 9ms/step - loss: 3.7952 - val_loss: 3.6110\n",
      "Epoch 84/100\n",
      "8/8 [==============================] - 0s 9ms/step - loss: 3.7945 - val_loss: 3.6027\n",
      "Epoch 85/100\n",
      "8/8 [==============================] - 0s 9ms/step - loss: 3.7985 - val_loss: 3.6048\n",
      "Epoch 86/100\n",
      "8/8 [==============================] - 0s 9ms/step - loss: 3.7941 - val_loss: 3.6065\n",
      "Epoch 87/100\n",
      "8/8 [==============================] - 0s 9ms/step - loss: 3.8069 - val_loss: 3.6331\n",
      "Epoch 88/100\n",
      "8/8 [==============================] - 0s 9ms/step - loss: 3.7960 - val_loss: 3.6105\n",
      "Epoch 89/100\n",
      "8/8 [==============================] - 0s 9ms/step - loss: 3.7946 - val_loss: 3.6052\n",
      "Epoch 90/100\n",
      "8/8 [==============================] - 0s 9ms/step - loss: 3.7967 - val_loss: 3.6126\n",
      "Epoch 91/100\n",
      "8/8 [==============================] - 0s 9ms/step - loss: 3.7940 - val_loss: 3.6086\n",
      "Epoch 92/100\n",
      "8/8 [==============================] - 0s 9ms/step - loss: 3.7943 - val_loss: 3.6122\n",
      "Epoch 93/100\n",
      "8/8 [==============================] - 0s 9ms/step - loss: 3.7934 - val_loss: 3.6074\n",
      "Epoch 94/100\n",
      "8/8 [==============================] - 0s 9ms/step - loss: 3.8023 - val_loss: 3.6214\n",
      "Epoch 95/100\n",
      "8/8 [==============================] - 0s 9ms/step - loss: 3.7956 - val_loss: 3.6059\n",
      "Epoch 96/100\n",
      "8/8 [==============================] - 0s 9ms/step - loss: 3.7946 - val_loss: 3.5995\n",
      "Epoch 97/100\n",
      "8/8 [==============================] - 0s 9ms/step - loss: 3.7931 - val_loss: 3.6021\n",
      "Epoch 98/100\n",
      "8/8 [==============================] - 0s 9ms/step - loss: 3.7940 - val_loss: 3.6136\n",
      "Epoch 99/100\n",
      "8/8 [==============================] - 0s 9ms/step - loss: 3.7939 - val_loss: 3.6179\n",
      "Epoch 100/100\n",
      "8/8 [==============================] - 0s 9ms/step - loss: 3.7946 - val_loss: 3.6113\n",
      "Wall time: 7.4 s\n"
     ]
    }
   ],
   "source": [
    "%%time\n",
    "history = hp_model.fit(\n",
    "x_train['Horsepower'],\n",
    "y_train,\n",
    "epochs=100,\n",
    "verbose=1,\n",
    "validation_split=0.2)"
   ]
  },
  {
   "cell_type": "code",
   "execution_count": 156,
   "metadata": {},
   "outputs": [],
   "source": [
    "def plot_loss(history):\n",
    "  plt.plot(history.history['loss'], label='loss')\n",
    "  plt.plot(history.history['val_loss'], label='val_loss')\n",
    "  plt.ylim([0, 10])\n",
    "  plt.xlabel('Epoch')\n",
    "  plt.ylabel('Error [MPG]')\n",
    "  plt.legend()\n",
    "  plt.grid(True)"
   ]
  },
  {
   "cell_type": "code",
   "execution_count": 157,
   "metadata": {},
   "outputs": [
    {
     "data": {
      "image/png": "[encoded data removed]",
      "text/plain": [
       "<Figure size 432x288 with 1 Axes>"
      ]
     },
     "metadata": {
      "needs_background": "light"
     },
     "output_type": "display_data"
    }
   ],
   "source": [
    "plot_loss(history)"
   ]
  },
  {
   "cell_type": "code",
   "execution_count": 160,
   "metadata": {},
   "outputs": [
    {
     "name": "stdout",
     "output_type": "stream",
     "text": [
      "3/3 [==============================] - 0s 4ms/step - loss: 4.0407\n"
     ]
    }
   ],
   "source": [
    "test_results = dict()\n",
    "test_results['hp_model'] = hp_model.evaluate(\n",
    "x_test['Horsepower'],\n",
    "y_test)"
   ]
  },
  {
   "cell_type": "code",
   "execution_count": 159,
   "metadata": {},
   "outputs": [
    {
     "data": {
      "text/plain": [
       "1      15.0\n",
       "151    31.0\n",
       "266    30.0\n",
       "285    17.0\n",
       "116    16.0\n",
       "Name: MPG, dtype: float64"
      ]
     },
     "execution_count": 159,
     "metadata": {},
     "output_type": "execute_result"
    }
   ],
   "source": [
    "y_train.head()"
   ]
  },
  {
   "cell_type": "markdown",
   "metadata": {},
   "source": [
    "## Linear Regression with Multiple Variables"
   ]
  },
  {
   "cell_type": "code",
   "execution_count": 161,
   "metadata": {},
   "outputs": [],
   "source": [
    "linear_model = tf.keras.Sequential([\n",
    "    normalizer,\n",
    "    layers.Dense(units=1)\n",
    "])"
   ]
  },
  {
   "cell_type": "code",
   "execution_count": 162,
   "metadata": {},
   "outputs": [],
   "source": [
    "linear_model.compile(\n",
    "optimizer=tf.optimizers.Adam(learning_rate=0.1),\n",
    "loss='mean_absolute_error')"
   ]
  },
  {
   "cell_type": "code",
   "execution_count": 163,
   "metadata": {},
   "outputs": [
    {
     "name": "stdout",
     "output_type": "stream",
     "text": [
      "Epoch 1/100\n",
      "WARNING:tensorflow:AutoGraph could not transform <function Model.make_train_function.<locals>.train_function at 0x0000025018864F78> and will run it as-is.\n",
      "Please report this to the TensorFlow team. When filing the bug, set the verbosity to 10 (on Linux, `export AUTOGRAPH_VERBOSITY=10`) and attach the full output.\n",
      "Cause: 'arguments' object has no attribute 'posonlyargs'\n",
      "To silence this warning, decorate the function with @tf.autograph.experimental.do_not_convert\n",
      "WARNING: AutoGraph could not transform <function Model.make_train_function.<locals>.train_function at 0x0000025018864F78> and will run it as-is.\n",
      "Please report this to the TensorFlow team. When filing the bug, set the verbosity to 10 (on Linux, `export AUTOGRAPH_VERBOSITY=10`) and attach the full output.\n",
      "Cause: 'arguments' object has no attribute 'posonlyargs'\n",
      "To silence this warning, decorate the function with @tf.autograph.experimental.do_not_convert\n",
      "1/8 [==>...........................] - ETA: 2s - loss: 22.8706WARNING:tensorflow:AutoGraph could not transform <function Model.make_test_function.<locals>.test_function at 0x0000025018949C18> and will run it as-is.\n",
      "Please report this to the TensorFlow team. When filing the bug, set the verbosity to 10 (on Linux, `export AUTOGRAPH_VERBOSITY=10`) and attach the full output.\n",
      "Cause: 'arguments' object has no attribute 'posonlyargs'\n",
      "To silence this warning, decorate the function with @tf.autograph.experimental.do_not_convert\n",
      "WARNING: AutoGraph could not transform <function Model.make_test_function.<locals>.test_function at 0x0000025018949C18> and will run it as-is.\n",
      "Please report this to the TensorFlow team. When filing the bug, set the verbosity to 10 (on Linux, `export AUTOGRAPH_VERBOSITY=10`) and attach the full output.\n",
      "Cause: 'arguments' object has no attribute 'posonlyargs'\n",
      "To silence this warning, decorate the function with @tf.autograph.experimental.do_not_convert\n",
      "8/8 [==============================] - 0s 21ms/step - loss: 23.2090 - val_loss: 22.5924\n",
      "Epoch 2/100\n",
      "8/8 [==============================] - 0s 10ms/step - loss: 22.3319 - val_loss: 21.8243\n",
      "Epoch 3/100\n",
      "8/8 [==============================] - 0s 10ms/step - loss: 21.5204 - val_loss: 21.0454\n",
      "Epoch 4/100\n",
      "8/8 [==============================] - 0s 9ms/step - loss: 20.7094 - val_loss: 20.2858\n",
      "Epoch 5/100\n",
      "8/8 [==============================] - 0s 9ms/step - loss: 19.9064 - val_loss: 19.5132\n",
      "Epoch 6/100\n",
      "8/8 [==============================] - 0s 9ms/step - loss: 19.1053 - val_loss: 18.7606\n",
      "Epoch 7/100\n",
      "8/8 [==============================] - 0s 9ms/step - loss: 18.3037 - val_loss: 17.9804\n",
      "Epoch 8/100\n",
      "8/8 [==============================] - 0s 9ms/step - loss: 17.4834 - val_loss: 17.2363\n",
      "Epoch 9/100\n",
      "8/8 [==============================] - 0s 9ms/step - loss: 16.6842 - val_loss: 16.4661\n",
      "Epoch 10/100\n",
      "8/8 [==============================] - 0s 9ms/step - loss: 15.8970 - val_loss: 15.6501\n",
      "Epoch 11/100\n",
      "8/8 [==============================] - 0s 9ms/step - loss: 15.0906 - val_loss: 14.8978\n",
      "Epoch 12/100\n",
      "8/8 [==============================] - 0s 9ms/step - loss: 14.2926 - val_loss: 14.1028\n",
      "Epoch 13/100\n",
      "8/8 [==============================] - 0s 9ms/step - loss: 13.4991 - val_loss: 13.3264\n",
      "Epoch 14/100\n",
      "8/8 [==============================] - 0s 9ms/step - loss: 12.7016 - val_loss: 12.5308\n",
      "Epoch 15/100\n",
      "8/8 [==============================] - 0s 9ms/step - loss: 11.9319 - val_loss: 11.7275\n",
      "Epoch 16/100\n",
      "8/8 [==============================] - 0s 9ms/step - loss: 11.1586 - val_loss: 10.9453\n",
      "Epoch 17/100\n",
      "8/8 [==============================] - 0s 9ms/step - loss: 10.3948 - val_loss: 10.1423\n",
      "Epoch 18/100\n",
      "8/8 [==============================] - 0s 9ms/step - loss: 9.6326 - val_loss: 9.3517\n",
      "Epoch 19/100\n",
      "8/8 [==============================] - 0s 9ms/step - loss: 8.8908 - val_loss: 8.5676\n",
      "Epoch 20/100\n",
      "8/8 [==============================] - 0s 9ms/step - loss: 8.1063 - val_loss: 7.7872\n",
      "Epoch 21/100\n",
      "8/8 [==============================] - 0s 9ms/step - loss: 7.3409 - val_loss: 7.0251\n",
      "Epoch 22/100\n",
      "8/8 [==============================] - 0s 9ms/step - loss: 6.6266 - val_loss: 6.2691\n",
      "Epoch 23/100\n",
      "8/8 [==============================] - 0s 9ms/step - loss: 5.9242 - val_loss: 5.5874\n",
      "Epoch 24/100\n",
      "8/8 [==============================] - 0s 9ms/step - loss: 5.2720 - val_loss: 4.8760\n",
      "Epoch 25/100\n",
      "8/8 [==============================] - 0s 9ms/step - loss: 4.6310 - val_loss: 4.1937\n",
      "Epoch 26/100\n",
      "8/8 [==============================] - 0s 9ms/step - loss: 4.0379 - val_loss: 3.6008\n",
      "Epoch 27/100\n",
      "8/8 [==============================] - 0s 9ms/step - loss: 3.5924 - val_loss: 3.1134\n",
      "Epoch 28/100\n",
      "8/8 [==============================] - 0s 9ms/step - loss: 3.1817 - val_loss: 2.7224\n",
      "Epoch 29/100\n",
      "8/8 [==============================] - 0s 9ms/step - loss: 2.8432 - val_loss: 2.5899\n",
      "Epoch 30/100\n",
      "8/8 [==============================] - 0s 9ms/step - loss: 2.6449 - val_loss: 2.5033\n",
      "Epoch 31/100\n",
      "8/8 [==============================] - 0s 9ms/step - loss: 2.5175 - val_loss: 2.4452\n",
      "Epoch 32/100\n",
      "8/8 [==============================] - 0s 9ms/step - loss: 2.4523 - val_loss: 2.3795\n",
      "Epoch 33/100\n",
      "8/8 [==============================] - 0s 9ms/step - loss: 2.3962 - val_loss: 2.3042\n",
      "Epoch 34/100\n",
      "8/8 [==============================] - 0s 9ms/step - loss: 2.3939 - val_loss: 2.3159\n",
      "Epoch 35/100\n",
      "8/8 [==============================] - 0s 9ms/step - loss: 2.4016 - val_loss: 2.3156\n",
      "Epoch 36/100\n",
      "8/8 [==============================] - 0s 9ms/step - loss: 2.3692 - val_loss: 2.3115\n",
      "Epoch 37/100\n",
      "8/8 [==============================] - 0s 9ms/step - loss: 2.3791 - val_loss: 2.3592\n",
      "Epoch 38/100\n",
      "8/8 [==============================] - 0s 9ms/step - loss: 2.3483 - val_loss: 2.3116\n",
      "Epoch 39/100\n",
      "8/8 [==============================] - 0s 9ms/step - loss: 2.3609 - val_loss: 2.3194\n",
      "Epoch 40/100\n",
      "8/8 [==============================] - 0s 9ms/step - loss: 2.3499 - val_loss: 2.3100\n",
      "Epoch 41/100\n",
      "8/8 [==============================] - 0s 9ms/step - loss: 2.3602 - val_loss: 2.3113\n",
      "Epoch 42/100\n",
      "8/8 [==============================] - 0s 10ms/step - loss: 2.3447 - val_loss: 2.3308\n",
      "Epoch 43/100\n",
      "8/8 [==============================] - 0s 9ms/step - loss: 2.3847 - val_loss: 2.3390\n",
      "Epoch 44/100\n",
      "8/8 [==============================] - 0s 9ms/step - loss: 2.3847 - val_loss: 2.2783\n",
      "Epoch 45/100\n",
      "8/8 [==============================] - 0s 9ms/step - loss: 2.3574 - val_loss: 2.3255\n",
      "Epoch 46/100\n",
      "8/8 [==============================] - 0s 9ms/step - loss: 2.3703 - val_loss: 2.3175\n",
      "Epoch 47/100\n",
      "8/8 [==============================] - 0s 9ms/step - loss: 2.3595 - val_loss: 2.3311\n",
      "Epoch 48/100\n",
      "8/8 [==============================] - 0s 8ms/step - loss: 2.3531 - val_loss: 2.2759\n",
      "Epoch 49/100\n",
      "8/8 [==============================] - 0s 9ms/step - loss: 2.3846 - val_loss: 2.2917\n",
      "Epoch 50/100\n",
      "8/8 [==============================] - 0s 9ms/step - loss: 2.3506 - val_loss: 2.3177\n",
      "Epoch 51/100\n",
      "8/8 [==============================] - 0s 9ms/step - loss: 2.3416 - val_loss: 2.2837\n",
      "Epoch 52/100\n",
      "8/8 [==============================] - 0s 10ms/step - loss: 2.3591 - val_loss: 2.3005\n",
      "Epoch 53/100\n",
      "8/8 [==============================] - 0s 9ms/step - loss: 2.3456 - val_loss: 2.2997\n",
      "Epoch 54/100\n",
      "8/8 [==============================] - 0s 9ms/step - loss: 2.3436 - val_loss: 2.3145\n",
      "Epoch 55/100\n",
      "8/8 [==============================] - 0s 9ms/step - loss: 2.3463 - val_loss: 2.2814\n",
      "Epoch 56/100\n",
      "8/8 [==============================] - 0s 9ms/step - loss: 2.3531 - val_loss: 2.2941\n",
      "Epoch 57/100\n",
      "8/8 [==============================] - 0s 9ms/step - loss: 2.3565 - val_loss: 2.3041\n",
      "Epoch 58/100\n",
      "8/8 [==============================] - 0s 9ms/step - loss: 2.3415 - val_loss: 2.2935\n",
      "Epoch 59/100\n",
      "8/8 [==============================] - 0s 10ms/step - loss: 2.3431 - val_loss: 2.3185\n",
      "Epoch 60/100\n",
      "8/8 [==============================] - 0s 9ms/step - loss: 2.3529 - val_loss: 2.2937\n",
      "Epoch 61/100\n",
      "8/8 [==============================] - 0s 10ms/step - loss: 2.3548 - val_loss: 2.2928\n",
      "Epoch 62/100\n",
      "8/8 [==============================] - 0s 9ms/step - loss: 2.3406 - val_loss: 2.3083\n",
      "Epoch 63/100\n",
      "8/8 [==============================] - 0s 9ms/step - loss: 2.3865 - val_loss: 2.2861\n",
      "Epoch 64/100\n",
      "8/8 [==============================] - 0s 9ms/step - loss: 2.3692 - val_loss: 2.3089\n",
      "Epoch 65/100\n",
      "8/8 [==============================] - 0s 9ms/step - loss: 2.3571 - val_loss: 2.2848\n",
      "Epoch 66/100\n",
      "8/8 [==============================] - 0s 9ms/step - loss: 2.3738 - val_loss: 2.2992\n",
      "Epoch 67/100\n",
      "8/8 [==============================] - 0s 9ms/step - loss: 2.3387 - val_loss: 2.2791\n",
      "Epoch 68/100\n",
      "8/8 [==============================] - 0s 9ms/step - loss: 2.3590 - val_loss: 2.2863\n",
      "Epoch 69/100\n",
      "8/8 [==============================] - 0s 9ms/step - loss: 2.3941 - val_loss: 2.2969\n",
      "Epoch 70/100\n",
      "8/8 [==============================] - 0s 9ms/step - loss: 2.3835 - val_loss: 2.2846\n",
      "Epoch 71/100\n",
      "8/8 [==============================] - 0s 9ms/step - loss: 2.3481 - val_loss: 2.2825\n",
      "Epoch 72/100\n",
      "8/8 [==============================] - 0s 9ms/step - loss: 2.3545 - val_loss: 2.3193\n",
      "Epoch 73/100\n",
      "8/8 [==============================] - 0s 9ms/step - loss: 2.3412 - val_loss: 2.2661\n",
      "Epoch 74/100\n",
      "8/8 [==============================] - 0s 9ms/step - loss: 2.3500 - val_loss: 2.3122\n",
      "Epoch 75/100\n",
      "8/8 [==============================] - 0s 10ms/step - loss: 2.3735 - val_loss: 2.2687\n",
      "Epoch 76/100\n",
      "8/8 [==============================] - 0s 10ms/step - loss: 2.3427 - val_loss: 2.3012\n",
      "Epoch 77/100\n",
      "8/8 [==============================] - 0s 9ms/step - loss: 2.3687 - val_loss: 2.2796\n",
      "Epoch 78/100\n",
      "8/8 [==============================] - 0s 10ms/step - loss: 2.3945 - val_loss: 2.2658\n",
      "Epoch 79/100\n",
      "8/8 [==============================] - 0s 9ms/step - loss: 2.3491 - val_loss: 2.3105\n",
      "Epoch 80/100\n",
      "8/8 [==============================] - 0s 10ms/step - loss: 2.3867 - val_loss: 2.2555\n",
      "Epoch 81/100\n",
      "8/8 [==============================] - 0s 9ms/step - loss: 2.3390 - val_loss: 2.2871\n",
      "Epoch 82/100\n",
      "8/8 [==============================] - 0s 9ms/step - loss: 2.3483 - val_loss: 2.2602\n",
      "Epoch 83/100\n",
      "8/8 [==============================] - 0s 9ms/step - loss: 2.3590 - val_loss: 2.2945\n",
      "Epoch 84/100\n",
      "8/8 [==============================] - 0s 9ms/step - loss: 2.3529 - val_loss: 2.2605\n",
      "Epoch 85/100\n",
      "8/8 [==============================] - 0s 9ms/step - loss: 2.3589 - val_loss: 2.2676\n",
      "Epoch 86/100\n",
      "8/8 [==============================] - 0s 9ms/step - loss: 2.3420 - val_loss: 2.2912\n",
      "Epoch 87/100\n",
      "8/8 [==============================] - 0s 9ms/step - loss: 2.3460 - val_loss: 2.2849\n",
      "Epoch 88/100\n",
      "8/8 [==============================] - 0s 10ms/step - loss: 2.3447 - val_loss: 2.2900\n",
      "Epoch 89/100\n",
      "8/8 [==============================] - 0s 9ms/step - loss: 2.3431 - val_loss: 2.2948\n",
      "Epoch 90/100\n",
      "8/8 [==============================] - 0s 9ms/step - loss: 2.3447 - val_loss: 2.2922\n",
      "Epoch 91/100\n",
      "8/8 [==============================] - 0s 9ms/step - loss: 2.3477 - val_loss: 2.2561\n",
      "Epoch 92/100\n",
      "8/8 [==============================] - 0s 9ms/step - loss: 2.3507 - val_loss: 2.3042\n",
      "Epoch 93/100\n",
      "8/8 [==============================] - 0s 9ms/step - loss: 2.3771 - val_loss: 2.2794\n",
      "Epoch 94/100\n",
      "8/8 [==============================] - 0s 10ms/step - loss: 2.3478 - val_loss: 2.3048\n",
      "Epoch 95/100\n",
      "8/8 [==============================] - 0s 9ms/step - loss: 2.3523 - val_loss: 2.2743\n",
      "Epoch 96/100\n",
      "8/8 [==============================] - 0s 9ms/step - loss: 2.3555 - val_loss: 2.2880\n",
      "Epoch 97/100\n",
      "8/8 [==============================] - 0s 9ms/step - loss: 2.3404 - val_loss: 2.2879\n",
      "Epoch 98/100\n",
      "8/8 [==============================] - 0s 9ms/step - loss: 2.3388 - val_loss: 2.2785\n",
      "Epoch 99/100\n",
      "8/8 [==============================] - 0s 9ms/step - loss: 2.3417 - val_loss: 2.2850\n",
      "Epoch 100/100\n",
      "8/8 [==============================] - 0s 9ms/step - loss: 2.3810 - val_loss: 2.2633\n",
      "Wall time: 7.63 s\n"
     ]
    }
   ],
   "source": [
    "%%time\n",
    "history = linear_model.fit(\n",
    "x_train,\n",
    "y_train,\n",
    "epochs=100,\n",
    "validation_split=0.2)"
   ]
  },
  {
   "cell_type": "code",
   "execution_count": 164,
   "metadata": {},
   "outputs": [
    {
     "data": {
      "image/png": "[encoded data removed]",
      "text/plain": [
       "<Figure size 432x288 with 1 Axes>"
      ]
     },
     "metadata": {
      "needs_background": "light"
     },
     "output_type": "display_data"
    }
   ],
   "source": [
    "plot_loss(history)"
   ]
  },
  {
   "cell_type": "code",
   "execution_count": 165,
   "metadata": {},
   "outputs": [
    {
     "name": "stdout",
     "output_type": "stream",
     "text": [
      "3/3 [==============================] - 0s 6ms/step - loss: 2.9317\n"
     ]
    }
   ],
   "source": [
    "test_results['linear_model'] = linear_model.evaluate(\n",
    "x_test,\n",
    "y_test)"
   ]
  },
  {
   "cell_type": "markdown",
   "metadata": {},
   "source": [
    "### Regression with a deep neural network (DNN)"
   ]
  },
  {
   "cell_type": "code",
   "execution_count": 166,
   "metadata": {},
   "outputs": [],
   "source": [
    "def build_and_compile_model(norm):\n",
    "    model = keras.Sequential([\n",
    "        norm,\n",
    "        layers.Dense(units=64, activation='relu'),\n",
    "        layers.Dense(units=64, activation='relu'),\n",
    "        layers.Dense(units=1)\n",
    "    ])\n",
    "    \n",
    "    model.compile(loss='mean_absolute_error',\n",
    "                 optimizer=tf.keras.optimizers.Adam(0.001))\n",
    "    \n",
    "    return model"
   ]
  },
  {
   "cell_type": "markdown",
   "metadata": {},
   "source": [
    "#### Single Variable"
   ]
  },
  {
   "cell_type": "code",
   "execution_count": 167,
   "metadata": {},
   "outputs": [],
   "source": [
    "dnn_hp_model = build_and_compile_model(hp_normalizer)"
   ]
  },
  {
   "cell_type": "code",
   "execution_count": 168,
   "metadata": {},
   "outputs": [
    {
     "name": "stdout",
     "output_type": "stream",
     "text": [
      "Model: \"sequential_4\"\n",
      "_________________________________________________________________\n",
      " Layer (type)                Output Shape              Param #   \n",
      "=================================================================\n",
      " normalization_7 (Normalizat  (None, 1)                3         \n",
      " ion)                                                            \n",
      "                                                                 \n",
      " dense_4 (Dense)             (None, 64)                128       \n",
      "                                                                 \n",
      " dense_5 (Dense)             (None, 64)                4160      \n",
      "                                                                 \n",
      " dense_6 (Dense)             (None, 1)                 65        \n",
      "                                                                 \n",
      "=================================================================\n",
      "Total params: 4,356\n",
      "Trainable params: 4,353\n",
      "Non-trainable params: 3\n",
      "_________________________________________________________________\n"
     ]
    }
   ],
   "source": [
    "dnn_hp_model.summary()"
   ]
  },
  {
   "cell_type": "code",
   "execution_count": 169,
   "metadata": {},
   "outputs": [
    {
     "name": "stdout",
     "output_type": "stream",
     "text": [
      "Epoch 1/100\n",
      "WARNING:tensorflow:AutoGraph could not transform <function Model.make_train_function.<locals>.train_function at 0x0000025009945A68> and will run it as-is.\n",
      "Please report this to the TensorFlow team. When filing the bug, set the verbosity to 10 (on Linux, `export AUTOGRAPH_VERBOSITY=10`) and attach the full output.\n",
      "Cause: 'arguments' object has no attribute 'posonlyargs'\n",
      "To silence this warning, decorate the function with @tf.autograph.experimental.do_not_convert\n",
      "WARNING: AutoGraph could not transform <function Model.make_train_function.<locals>.train_function at 0x0000025009945A68> and will run it as-is.\n",
      "Please report this to the TensorFlow team. When filing the bug, set the verbosity to 10 (on Linux, `export AUTOGRAPH_VERBOSITY=10`) and attach the full output.\n",
      "Cause: 'arguments' object has no attribute 'posonlyargs'\n",
      "To silence this warning, decorate the function with @tf.autograph.experimental.do_not_convert\n",
      "8/8 [==============================] - ETA: 0s - loss: 23.3349WARNING:tensorflow:AutoGraph could not transform <function Model.make_test_function.<locals>.test_function at 0x0000025018A80DC8> and will run it as-is.\n",
      "Please report this to the TensorFlow team. When filing the bug, set the verbosity to 10 (on Linux, `export AUTOGRAPH_VERBOSITY=10`) and attach the full output.\n",
      "Cause: 'arguments' object has no attribute 'posonlyargs'\n",
      "To silence this warning, decorate the function with @tf.autograph.experimental.do_not_convert\n",
      "WARNING: AutoGraph could not transform <function Model.make_test_function.<locals>.test_function at 0x0000025018A80DC8> and will run it as-is.\n",
      "Please report this to the TensorFlow team. When filing the bug, set the verbosity to 10 (on Linux, `export AUTOGRAPH_VERBOSITY=10`) and attach the full output.\n",
      "Cause: 'arguments' object has no attribute 'posonlyargs'\n",
      "To silence this warning, decorate the function with @tf.autograph.experimental.do_not_convert\n",
      "8/8 [==============================] - 0s 23ms/step - loss: 23.3349 - val_loss: 23.0463\n",
      "Epoch 2/100\n",
      "8/8 [==============================] - 0s 11ms/step - loss: 23.1341 - val_loss: 22.8471\n",
      "Epoch 3/100\n",
      "8/8 [==============================] - 0s 11ms/step - loss: 22.9181 - val_loss: 22.6055\n",
      "Epoch 4/100\n",
      "8/8 [==============================] - 0s 11ms/step - loss: 22.6500 - val_loss: 22.2859\n",
      "Epoch 5/100\n",
      "8/8 [==============================] - 0s 11ms/step - loss: 22.2759 - val_loss: 21.8460\n",
      "Epoch 6/100\n",
      "8/8 [==============================] - 0s 12ms/step - loss: 21.7731 - val_loss: 21.2516\n",
      "Epoch 7/100\n",
      "8/8 [==============================] - 0s 11ms/step - loss: 21.0944 - val_loss: 20.4578\n",
      "Epoch 8/100\n",
      "8/8 [==============================] - 0s 11ms/step - loss: 20.1959 - val_loss: 19.4207\n",
      "Epoch 9/100\n",
      "8/8 [==============================] - 0s 11ms/step - loss: 19.0477 - val_loss: 18.1480\n",
      "Epoch 10/100\n",
      "8/8 [==============================] - 0s 11ms/step - loss: 17.6509 - val_loss: 16.6910\n",
      "Epoch 11/100\n",
      "8/8 [==============================] - 0s 11ms/step - loss: 16.1325 - val_loss: 15.0344\n",
      "Epoch 12/100\n",
      "8/8 [==============================] - 0s 12ms/step - loss: 14.3850 - val_loss: 13.0980\n",
      "Epoch 13/100\n",
      "8/8 [==============================] - 0s 12ms/step - loss: 12.4765 - val_loss: 10.8481\n",
      "Epoch 14/100\n",
      "8/8 [==============================] - 0s 12ms/step - loss: 10.3036 - val_loss: 8.3636\n",
      "Epoch 15/100\n",
      "8/8 [==============================] - 0s 12ms/step - loss: 7.8275 - val_loss: 5.7019\n",
      "Epoch 16/100\n",
      "8/8 [==============================] - 0s 12ms/step - loss: 5.5396 - val_loss: 4.0184\n",
      "Epoch 17/100\n",
      "8/8 [==============================] - 0s 11ms/step - loss: 4.1716 - val_loss: 4.1300\n",
      "Epoch 18/100\n",
      "8/8 [==============================] - 0s 11ms/step - loss: 4.0187 - val_loss: 4.4058\n",
      "Epoch 19/100\n",
      "8/8 [==============================] - 0s 11ms/step - loss: 3.9278 - val_loss: 4.1279\n",
      "Epoch 20/100\n",
      "8/8 [==============================] - 0s 11ms/step - loss: 3.8189 - val_loss: 3.8912\n",
      "Epoch 21/100\n",
      "8/8 [==============================] - 0s 12ms/step - loss: 3.7605 - val_loss: 3.8705\n",
      "Epoch 22/100\n",
      "8/8 [==============================] - 0s 11ms/step - loss: 3.7188 - val_loss: 3.9133\n",
      "Epoch 23/100\n",
      "8/8 [==============================] - 0s 11ms/step - loss: 3.6906 - val_loss: 3.8433\n",
      "Epoch 24/100\n",
      "8/8 [==============================] - 0s 11ms/step - loss: 3.6592 - val_loss: 3.8916\n",
      "Epoch 25/100\n",
      "8/8 [==============================] - 0s 11ms/step - loss: 3.6108 - val_loss: 3.7712\n",
      "Epoch 26/100\n",
      "8/8 [==============================] - 0s 11ms/step - loss: 3.5792 - val_loss: 3.7227\n",
      "Epoch 27/100\n",
      "8/8 [==============================] - 0s 11ms/step - loss: 3.5590 - val_loss: 3.6861\n",
      "Epoch 28/100\n",
      "8/8 [==============================] - 0s 11ms/step - loss: 3.5325 - val_loss: 3.6977\n",
      "Epoch 29/100\n",
      "8/8 [==============================] - 0s 11ms/step - loss: 3.5208 - val_loss: 3.7029\n",
      "Epoch 30/100\n",
      "8/8 [==============================] - 0s 11ms/step - loss: 3.5023 - val_loss: 3.6572\n",
      "Epoch 31/100\n",
      "8/8 [==============================] - 0s 11ms/step - loss: 3.4902 - val_loss: 3.6264\n",
      "Epoch 32/100\n",
      "8/8 [==============================] - 0s 11ms/step - loss: 3.4677 - val_loss: 3.6561\n",
      "Epoch 33/100\n",
      "8/8 [==============================] - 0s 11ms/step - loss: 3.4565 - val_loss: 3.6882\n",
      "Epoch 34/100\n",
      "8/8 [==============================] - 0s 11ms/step - loss: 3.4425 - val_loss: 3.6424\n",
      "Epoch 35/100\n",
      "8/8 [==============================] - 0s 11ms/step - loss: 3.4164 - val_loss: 3.5924\n",
      "Epoch 36/100\n",
      "8/8 [==============================] - 0s 11ms/step - loss: 3.4180 - val_loss: 3.4991\n",
      "Epoch 37/100\n",
      "8/8 [==============================] - 0s 11ms/step - loss: 3.3912 - val_loss: 3.5170\n",
      "Epoch 38/100\n",
      "8/8 [==============================] - 0s 11ms/step - loss: 3.3741 - val_loss: 3.5450\n",
      "Epoch 39/100\n",
      "8/8 [==============================] - 0s 11ms/step - loss: 3.3487 - val_loss: 3.5701\n",
      "Epoch 40/100\n",
      "8/8 [==============================] - 0s 11ms/step - loss: 3.3394 - val_loss: 3.5092\n",
      "Epoch 41/100\n",
      "8/8 [==============================] - 0s 11ms/step - loss: 3.3147 - val_loss: 3.5036\n",
      "Epoch 42/100\n",
      "8/8 [==============================] - 0s 12ms/step - loss: 3.3076 - val_loss: 3.4990\n",
      "Epoch 43/100\n",
      "8/8 [==============================] - 0s 11ms/step - loss: 3.2892 - val_loss: 3.5059\n",
      "Epoch 44/100\n",
      "8/8 [==============================] - 0s 11ms/step - loss: 3.2717 - val_loss: 3.4413\n",
      "Epoch 45/100\n",
      "8/8 [==============================] - 0s 12ms/step - loss: 3.2609 - val_loss: 3.4160\n",
      "Epoch 46/100\n",
      "8/8 [==============================] - 0s 12ms/step - loss: 3.2482 - val_loss: 3.5000\n",
      "Epoch 47/100\n",
      "8/8 [==============================] - 0s 11ms/step - loss: 3.2377 - val_loss: 3.4580\n",
      "Epoch 48/100\n",
      "8/8 [==============================] - 0s 11ms/step - loss: 3.2235 - val_loss: 3.4036\n",
      "Epoch 49/100\n",
      "8/8 [==============================] - 0s 11ms/step - loss: 3.2205 - val_loss: 3.4160\n",
      "Epoch 50/100\n",
      "8/8 [==============================] - 0s 12ms/step - loss: 3.2127 - val_loss: 3.3873\n",
      "Epoch 51/100\n",
      "8/8 [==============================] - 0s 11ms/step - loss: 3.2072 - val_loss: 3.4290\n",
      "Epoch 52/100\n",
      "8/8 [==============================] - 0s 12ms/step - loss: 3.1993 - val_loss: 3.3968\n",
      "Epoch 53/100\n",
      "8/8 [==============================] - 0s 11ms/step - loss: 3.2064 - val_loss: 3.3954\n",
      "Epoch 54/100\n",
      "8/8 [==============================] - 0s 10ms/step - loss: 3.1983 - val_loss: 3.4709\n",
      "Epoch 55/100\n",
      "8/8 [==============================] - 0s 11ms/step - loss: 3.1964 - val_loss: 3.3958\n",
      "Epoch 56/100\n",
      "8/8 [==============================] - 0s 13ms/step - loss: 3.1864 - val_loss: 3.3455\n",
      "Epoch 57/100\n",
      "8/8 [==============================] - 0s 12ms/step - loss: 3.1865 - val_loss: 3.4003\n",
      "Epoch 58/100\n",
      "8/8 [==============================] - 0s 11ms/step - loss: 3.1900 - val_loss: 3.3305\n",
      "Epoch 59/100\n",
      "8/8 [==============================] - 0s 10ms/step - loss: 3.1737 - val_loss: 3.3942\n",
      "Epoch 60/100\n",
      "8/8 [==============================] - 0s 10ms/step - loss: 3.1746 - val_loss: 3.4079\n",
      "Epoch 61/100\n",
      "8/8 [==============================] - 0s 11ms/step - loss: 3.1719 - val_loss: 3.3739\n",
      "Epoch 62/100\n",
      "8/8 [==============================] - 0s 13ms/step - loss: 3.1699 - val_loss: 3.3920\n",
      "Epoch 63/100\n",
      "8/8 [==============================] - 0s 12ms/step - loss: 3.1721 - val_loss: 3.3197\n",
      "Epoch 64/100\n",
      "8/8 [==============================] - 0s 11ms/step - loss: 3.1671 - val_loss: 3.3354\n",
      "Epoch 65/100\n",
      "8/8 [==============================] - 0s 12ms/step - loss: 3.1678 - val_loss: 3.4136\n",
      "Epoch 66/100\n",
      "8/8 [==============================] - 0s 11ms/step - loss: 3.1667 - val_loss: 3.3741\n",
      "Epoch 67/100\n",
      "8/8 [==============================] - 0s 11ms/step - loss: 3.1628 - val_loss: 3.3295\n",
      "Epoch 68/100\n",
      "8/8 [==============================] - 0s 11ms/step - loss: 3.1714 - val_loss: 3.2928\n",
      "Epoch 69/100\n",
      "8/8 [==============================] - 0s 11ms/step - loss: 3.1553 - val_loss: 3.3661\n",
      "Epoch 70/100\n",
      "8/8 [==============================] - 0s 12ms/step - loss: 3.1616 - val_loss: 3.3822\n",
      "Epoch 71/100\n",
      "8/8 [==============================] - 0s 11ms/step - loss: 3.1620 - val_loss: 3.3674\n",
      "Epoch 72/100\n",
      "8/8 [==============================] - 0s 11ms/step - loss: 3.1572 - val_loss: 3.3464\n",
      "Epoch 73/100\n",
      "8/8 [==============================] - 0s 11ms/step - loss: 3.1641 - val_loss: 3.2800\n",
      "Epoch 74/100\n",
      "8/8 [==============================] - 0s 11ms/step - loss: 3.1562 - val_loss: 3.3674\n",
      "Epoch 75/100\n",
      "8/8 [==============================] - 0s 11ms/step - loss: 3.1562 - val_loss: 3.3786\n",
      "Epoch 76/100\n",
      "8/8 [==============================] - 0s 11ms/step - loss: 3.1594 - val_loss: 3.2846\n",
      "Epoch 77/100\n",
      "8/8 [==============================] - 0s 12ms/step - loss: 3.1548 - val_loss: 3.3523\n",
      "Epoch 78/100\n",
      "8/8 [==============================] - 0s 11ms/step - loss: 3.1511 - val_loss: 3.3201\n",
      "Epoch 79/100\n",
      "8/8 [==============================] - 0s 11ms/step - loss: 3.1480 - val_loss: 3.3238\n",
      "Epoch 80/100\n",
      "8/8 [==============================] - 0s 11ms/step - loss: 3.1441 - val_loss: 3.3875\n",
      "Epoch 81/100\n",
      "8/8 [==============================] - 0s 11ms/step - loss: 3.1544 - val_loss: 3.3960\n",
      "Epoch 82/100\n",
      "8/8 [==============================] - 0s 11ms/step - loss: 3.1451 - val_loss: 3.2860\n",
      "Epoch 83/100\n",
      "8/8 [==============================] - 0s 11ms/step - loss: 3.1436 - val_loss: 3.3091\n",
      "Epoch 84/100\n",
      "8/8 [==============================] - 0s 11ms/step - loss: 3.1456 - val_loss: 3.3078\n",
      "Epoch 85/100\n",
      "8/8 [==============================] - 0s 11ms/step - loss: 3.1515 - val_loss: 3.3814\n",
      "Epoch 86/100\n",
      "8/8 [==============================] - 0s 11ms/step - loss: 3.1497 - val_loss: 3.3235\n",
      "Epoch 87/100\n",
      "8/8 [==============================] - 0s 11ms/step - loss: 3.1361 - val_loss: 3.3408\n",
      "Epoch 88/100\n",
      "8/8 [==============================] - 0s 11ms/step - loss: 3.1361 - val_loss: 3.3540\n",
      "Epoch 89/100\n",
      "8/8 [==============================] - 0s 11ms/step - loss: 3.1358 - val_loss: 3.3247\n",
      "Epoch 90/100\n",
      "8/8 [==============================] - 0s 10ms/step - loss: 3.1367 - val_loss: 3.3595\n",
      "Epoch 91/100\n",
      "8/8 [==============================] - 0s 11ms/step - loss: 3.1341 - val_loss: 3.2967\n",
      "Epoch 92/100\n",
      "8/8 [==============================] - 0s 10ms/step - loss: 3.1446 - val_loss: 3.2662\n",
      "Epoch 93/100\n",
      "8/8 [==============================] - 0s 11ms/step - loss: 3.1346 - val_loss: 3.3274\n",
      "Epoch 94/100\n",
      "8/8 [==============================] - 0s 11ms/step - loss: 3.1356 - val_loss: 3.3653\n",
      "Epoch 95/100\n",
      "8/8 [==============================] - 0s 10ms/step - loss: 3.1237 - val_loss: 3.2919\n",
      "Epoch 96/100\n",
      "8/8 [==============================] - 0s 10ms/step - loss: 3.1621 - val_loss: 3.2277\n",
      "Epoch 97/100\n",
      "8/8 [==============================] - 0s 11ms/step - loss: 3.1215 - val_loss: 3.3178\n",
      "Epoch 98/100\n",
      "8/8 [==============================] - 0s 11ms/step - loss: 3.1387 - val_loss: 3.3881\n",
      "Epoch 99/100\n",
      "8/8 [==============================] - 0s 10ms/step - loss: 3.1279 - val_loss: 3.3049\n",
      "Epoch 100/100\n",
      "8/8 [==============================] - 0s 11ms/step - loss: 3.1347 - val_loss: 3.2309\n",
      "Wall time: 9.26 s\n"
     ]
    }
   ],
   "source": [
    "%%time\n",
    "history = dnn_hp_model.fit(\n",
    "x_train['Horsepower'],\n",
    "y_train,\n",
    "epochs=100,\n",
    "validation_split=0.2)"
   ]
  },
  {
   "cell_type": "code",
   "execution_count": 170,
   "metadata": {},
   "outputs": [
    {
     "data": {
      "image/png": "[encoded data removed]",
      "text/plain": [
       "<Figure size 432x288 with 1 Axes>"
      ]
     },
     "metadata": {
      "needs_background": "light"
     },
     "output_type": "display_data"
    }
   ],
   "source": [
    "plot_loss(history)"
   ]
  },
  {
   "cell_type": "code",
   "execution_count": 172,
   "metadata": {},
   "outputs": [
    {
     "name": "stdout",
     "output_type": "stream",
     "text": [
      "3/3 [==============================] - 0s 6ms/step - loss: 3.7768\n"
     ]
    }
   ],
   "source": [
    "test_results['dnn_hp_model'] = dnn_hp_model.evaluate(\n",
    "    x_test['Horsepower'], y_test)"
   ]
  },
  {
   "cell_type": "markdown",
   "metadata": {},
   "source": [
    "#### Multi Variable"
   ]
  },
  {
   "cell_type": "code",
   "execution_count": 173,
   "metadata": {},
   "outputs": [
    {
     "name": "stdout",
     "output_type": "stream",
     "text": [
      "Model: \"sequential_5\"\n",
      "_________________________________________________________________\n",
      " Layer (type)                Output Shape              Param #   \n",
      "=================================================================\n",
      " normalization_3 (Normalizat  (None, 9)                19        \n",
      " ion)                                                            \n",
      "                                                                 \n",
      " dense_7 (Dense)             (None, 64)                640       \n",
      "                                                                 \n",
      " dense_8 (Dense)             (None, 64)                4160      \n",
      "                                                                 \n",
      " dense_9 (Dense)             (None, 1)                 65        \n",
      "                                                                 \n",
      "=================================================================\n",
      "Total params: 4,884\n",
      "Trainable params: 4,865\n",
      "Non-trainable params: 19\n",
      "_________________________________________________________________\n"
     ]
    }
   ],
   "source": [
    "dnn_model = build_and_compile_model(normalizer)\n",
    "dnn_model.summary()"
   ]
  },
  {
   "cell_type": "code",
   "execution_count": 174,
   "metadata": {},
   "outputs": [
    {
     "name": "stdout",
     "output_type": "stream",
     "text": [
      "Epoch 1/100\n",
      "WARNING:tensorflow:AutoGraph could not transform <function Model.make_train_function.<locals>.train_function at 0x0000025018D7D798> and will run it as-is.\n",
      "Please report this to the TensorFlow team. When filing the bug, set the verbosity to 10 (on Linux, `export AUTOGRAPH_VERBOSITY=10`) and attach the full output.\n",
      "Cause: 'arguments' object has no attribute 'posonlyargs'\n",
      "To silence this warning, decorate the function with @tf.autograph.experimental.do_not_convert\n",
      "WARNING: AutoGraph could not transform <function Model.make_train_function.<locals>.train_function at 0x0000025018D7D798> and will run it as-is.\n",
      "Please report this to the TensorFlow team. When filing the bug, set the verbosity to 10 (on Linux, `export AUTOGRAPH_VERBOSITY=10`) and attach the full output.\n",
      "Cause: 'arguments' object has no attribute 'posonlyargs'\n",
      "To silence this warning, decorate the function with @tf.autograph.experimental.do_not_convert\n",
      "8/8 [==============================] - ETA: 0s - loss: 23.1730WARNING:tensorflow:AutoGraph could not transform <function Model.make_test_function.<locals>.test_function at 0x0000025018E0BC18> and will run it as-is.\n",
      "Please report this to the TensorFlow team. When filing the bug, set the verbosity to 10 (on Linux, `export AUTOGRAPH_VERBOSITY=10`) and attach the full output.\n",
      "Cause: 'arguments' object has no attribute 'posonlyargs'\n",
      "To silence this warning, decorate the function with @tf.autograph.experimental.do_not_convert\n",
      "WARNING: AutoGraph could not transform <function Model.make_test_function.<locals>.test_function at 0x0000025018E0BC18> and will run it as-is.\n",
      "Please report this to the TensorFlow team. When filing the bug, set the verbosity to 10 (on Linux, `export AUTOGRAPH_VERBOSITY=10`) and attach the full output.\n",
      "Cause: 'arguments' object has no attribute 'posonlyargs'\n",
      "To silence this warning, decorate the function with @tf.autograph.experimental.do_not_convert\n",
      "8/8 [==============================] - 0s 26ms/step - loss: 23.1730 - val_loss: 22.6589\n",
      "Epoch 2/100\n",
      "8/8 [==============================] - 0s 12ms/step - loss: 22.4890 - val_loss: 21.9529\n",
      "Epoch 3/100\n",
      "8/8 [==============================] - 0s 12ms/step - loss: 21.7108 - val_loss: 21.0970\n",
      "Epoch 4/100\n",
      "8/8 [==============================] - 0s 12ms/step - loss: 20.7362 - val_loss: 19.9915\n",
      "Epoch 5/100\n",
      "8/8 [==============================] - 0s 11ms/step - loss: 19.4428 - val_loss: 18.5533\n",
      "Epoch 6/100\n",
      "8/8 [==============================] - 0s 11ms/step - loss: 17.7919 - val_loss: 16.8065\n",
      "Epoch 7/100\n",
      "8/8 [==============================] - 0s 11ms/step - loss: 15.9069 - val_loss: 14.9852\n",
      "Epoch 8/100\n",
      "8/8 [==============================] - 0s 12ms/step - loss: 13.9878 - val_loss: 13.0097\n",
      "Epoch 9/100\n",
      "8/8 [==============================] - 0s 11ms/step - loss: 11.8915 - val_loss: 10.6222\n",
      "Epoch 10/100\n",
      "8/8 [==============================] - 0s 12ms/step - loss: 9.4038 - val_loss: 7.9948\n",
      "Epoch 11/100\n",
      "8/8 [==============================] - 0s 11ms/step - loss: 7.0012 - val_loss: 6.6188\n",
      "Epoch 12/100\n",
      "8/8 [==============================] - 0s 12ms/step - loss: 5.9293 - val_loss: 6.1009\n",
      "Epoch 13/100\n",
      "8/8 [==============================] - 0s 11ms/step - loss: 5.2442 - val_loss: 5.3620\n",
      "Epoch 14/100\n",
      "8/8 [==============================] - 0s 12ms/step - loss: 4.4131 - val_loss: 4.4562\n",
      "Epoch 15/100\n",
      "8/8 [==============================] - 0s 11ms/step - loss: 3.7600 - val_loss: 3.8015\n",
      "Epoch 16/100\n",
      "8/8 [==============================] - 0s 11ms/step - loss: 3.3525 - val_loss: 3.3894\n",
      "Epoch 17/100\n",
      "8/8 [==============================] - 0s 11ms/step - loss: 3.0481 - val_loss: 3.1756\n",
      "Epoch 18/100\n",
      "8/8 [==============================] - 0s 12ms/step - loss: 2.7928 - val_loss: 2.9542\n",
      "Epoch 19/100\n",
      "8/8 [==============================] - 0s 11ms/step - loss: 2.6561 - val_loss: 2.7253\n",
      "Epoch 20/100\n",
      "8/8 [==============================] - 0s 12ms/step - loss: 2.5349 - val_loss: 2.6752\n",
      "Epoch 21/100\n",
      "8/8 [==============================] - 0s 11ms/step - loss: 2.4395 - val_loss: 2.5032\n",
      "Epoch 22/100\n",
      "8/8 [==============================] - 0s 11ms/step - loss: 2.3343 - val_loss: 2.3953\n",
      "Epoch 23/100\n",
      "8/8 [==============================] - 0s 12ms/step - loss: 2.2511 - val_loss: 2.2434\n",
      "Epoch 24/100\n",
      "8/8 [==============================] - 0s 12ms/step - loss: 2.1867 - val_loss: 2.2042\n",
      "Epoch 25/100\n",
      "8/8 [==============================] - 0s 12ms/step - loss: 2.1153 - val_loss: 2.1173\n",
      "Epoch 26/100\n",
      "8/8 [==============================] - 0s 11ms/step - loss: 2.0696 - val_loss: 2.0418\n",
      "Epoch 27/100\n",
      "8/8 [==============================] - 0s 11ms/step - loss: 2.0145 - val_loss: 1.9977\n",
      "Epoch 28/100\n",
      "8/8 [==============================] - 0s 12ms/step - loss: 1.9688 - val_loss: 1.9999\n",
      "Epoch 29/100\n",
      "8/8 [==============================] - 0s 12ms/step - loss: 1.9461 - val_loss: 1.9749\n",
      "Epoch 30/100\n",
      "8/8 [==============================] - 0s 11ms/step - loss: 1.9192 - val_loss: 1.8937\n",
      "Epoch 31/100\n",
      "8/8 [==============================] - 0s 11ms/step - loss: 1.9100 - val_loss: 1.9839\n",
      "Epoch 32/100\n",
      "8/8 [==============================] - 0s 11ms/step - loss: 1.8589 - val_loss: 1.8897\n",
      "Epoch 33/100\n",
      "8/8 [==============================] - 0s 11ms/step - loss: 1.8652 - val_loss: 1.9258\n",
      "Epoch 34/100\n",
      "8/8 [==============================] - 0s 11ms/step - loss: 1.8228 - val_loss: 1.9593\n",
      "Epoch 35/100\n",
      "8/8 [==============================] - 0s 12ms/step - loss: 1.8380 - val_loss: 1.8935\n",
      "Epoch 36/100\n",
      "8/8 [==============================] - 0s 11ms/step - loss: 1.8001 - val_loss: 1.9246\n",
      "Epoch 37/100\n",
      "8/8 [==============================] - 0s 11ms/step - loss: 1.7901 - val_loss: 1.9162\n",
      "Epoch 38/100\n",
      "8/8 [==============================] - 0s 12ms/step - loss: 1.8054 - val_loss: 1.8781\n",
      "Epoch 39/100\n",
      "8/8 [==============================] - 0s 11ms/step - loss: 1.7752 - val_loss: 2.0173\n",
      "Epoch 40/100\n",
      "8/8 [==============================] - 0s 12ms/step - loss: 1.7742 - val_loss: 1.8561\n",
      "Epoch 41/100\n",
      "8/8 [==============================] - 0s 11ms/step - loss: 1.7622 - val_loss: 1.9490\n",
      "Epoch 42/100\n",
      "8/8 [==============================] - 0s 11ms/step - loss: 1.7495 - val_loss: 1.8919\n",
      "Epoch 43/100\n",
      "8/8 [==============================] - 0s 11ms/step - loss: 1.7346 - val_loss: 1.8863\n",
      "Epoch 44/100\n",
      "8/8 [==============================] - 0s 11ms/step - loss: 1.7203 - val_loss: 1.9007\n",
      "Epoch 45/100\n",
      "8/8 [==============================] - 0s 11ms/step - loss: 1.7156 - val_loss: 1.9048\n",
      "Epoch 46/100\n",
      "8/8 [==============================] - 0s 11ms/step - loss: 1.7167 - val_loss: 1.9111\n",
      "Epoch 47/100\n",
      "8/8 [==============================] - 0s 11ms/step - loss: 1.7099 - val_loss: 1.8816\n",
      "Epoch 48/100\n",
      "8/8 [==============================] - 0s 11ms/step - loss: 1.6958 - val_loss: 1.9130\n",
      "Epoch 49/100\n",
      "8/8 [==============================] - 0s 11ms/step - loss: 1.6948 - val_loss: 1.8967\n",
      "Epoch 50/100\n",
      "8/8 [==============================] - 0s 12ms/step - loss: 1.6893 - val_loss: 1.9104\n",
      "Epoch 51/100\n",
      "8/8 [==============================] - 0s 12ms/step - loss: 1.6785 - val_loss: 1.8517\n",
      "Epoch 52/100\n",
      "8/8 [==============================] - 0s 11ms/step - loss: 1.6694 - val_loss: 1.9264\n",
      "Epoch 53/100\n",
      "8/8 [==============================] - 0s 11ms/step - loss: 1.6753 - val_loss: 1.8973\n",
      "Epoch 54/100\n",
      "8/8 [==============================] - 0s 12ms/step - loss: 1.6721 - val_loss: 1.8504\n",
      "Epoch 55/100\n",
      "8/8 [==============================] - 0s 11ms/step - loss: 1.6620 - val_loss: 1.9242\n",
      "Epoch 56/100\n",
      "8/8 [==============================] - 0s 11ms/step - loss: 1.6538 - val_loss: 1.8571\n",
      "Epoch 57/100\n",
      "8/8 [==============================] - 0s 12ms/step - loss: 1.6531 - val_loss: 1.9032\n",
      "Epoch 58/100\n",
      "8/8 [==============================] - 0s 12ms/step - loss: 1.6739 - val_loss: 1.8637\n",
      "Epoch 59/100\n",
      "8/8 [==============================] - 0s 11ms/step - loss: 1.6298 - val_loss: 1.9209\n",
      "Epoch 60/100\n",
      "8/8 [==============================] - 0s 12ms/step - loss: 1.6429 - val_loss: 1.8898\n",
      "Epoch 61/100\n",
      "8/8 [==============================] - 0s 12ms/step - loss: 1.6260 - val_loss: 1.9581\n",
      "Epoch 62/100\n",
      "8/8 [==============================] - 0s 12ms/step - loss: 1.6150 - val_loss: 1.8381\n",
      "Epoch 63/100\n",
      "8/8 [==============================] - 0s 11ms/step - loss: 1.6514 - val_loss: 1.9282\n",
      "Epoch 64/100\n",
      "8/8 [==============================] - 0s 11ms/step - loss: 1.6080 - val_loss: 1.8308\n",
      "Epoch 65/100\n",
      "8/8 [==============================] - 0s 11ms/step - loss: 1.6399 - val_loss: 1.9295\n",
      "Epoch 66/100\n",
      "8/8 [==============================] - 0s 12ms/step - loss: 1.6053 - val_loss: 1.8224\n",
      "Epoch 67/100\n",
      "8/8 [==============================] - 0s 12ms/step - loss: 1.6010 - val_loss: 1.8780\n",
      "Epoch 68/100\n",
      "8/8 [==============================] - 0s 12ms/step - loss: 1.6005 - val_loss: 1.9005\n",
      "Epoch 69/100\n",
      "8/8 [==============================] - 0s 12ms/step - loss: 1.6237 - val_loss: 1.8638\n",
      "Epoch 70/100\n",
      "8/8 [==============================] - 0s 11ms/step - loss: 1.6174 - val_loss: 1.9152\n",
      "Epoch 71/100\n",
      "8/8 [==============================] - 0s 12ms/step - loss: 1.6020 - val_loss: 1.8119\n",
      "Epoch 72/100\n",
      "8/8 [==============================] - 0s 11ms/step - loss: 1.5946 - val_loss: 1.9011\n",
      "Epoch 73/100\n",
      "8/8 [==============================] - 0s 12ms/step - loss: 1.5787 - val_loss: 1.8875\n",
      "Epoch 74/100\n",
      "8/8 [==============================] - 0s 12ms/step - loss: 1.5895 - val_loss: 1.8512\n",
      "Epoch 75/100\n",
      "8/8 [==============================] - 0s 11ms/step - loss: 1.5910 - val_loss: 1.8741\n",
      "Epoch 76/100\n",
      "8/8 [==============================] - 0s 13ms/step - loss: 1.5745 - val_loss: 1.8735\n",
      "Epoch 77/100\n",
      "8/8 [==============================] - 0s 12ms/step - loss: 1.5673 - val_loss: 1.8412\n",
      "Epoch 78/100\n",
      "8/8 [==============================] - 0s 11ms/step - loss: 1.5708 - val_loss: 1.8735\n",
      "Epoch 79/100\n",
      "8/8 [==============================] - 0s 12ms/step - loss: 1.5676 - val_loss: 1.8568\n",
      "Epoch 80/100\n",
      "8/8 [==============================] - 0s 11ms/step - loss: 1.5607 - val_loss: 1.9104\n",
      "Epoch 81/100\n",
      "8/8 [==============================] - 0s 11ms/step - loss: 1.5534 - val_loss: 1.8202\n",
      "Epoch 82/100\n",
      "8/8 [==============================] - 0s 11ms/step - loss: 1.5516 - val_loss: 1.8752\n",
      "Epoch 83/100\n",
      "8/8 [==============================] - 0s 11ms/step - loss: 1.5539 - val_loss: 1.8445\n",
      "Epoch 84/100\n",
      "8/8 [==============================] - 0s 13ms/step - loss: 1.5453 - val_loss: 1.8645\n",
      "Epoch 85/100\n",
      "8/8 [==============================] - 0s 13ms/step - loss: 1.5452 - val_loss: 1.9025\n",
      "Epoch 86/100\n",
      "8/8 [==============================] - 0s 12ms/step - loss: 1.5489 - val_loss: 1.8171\n",
      "Epoch 87/100\n",
      "8/8 [==============================] - 0s 11ms/step - loss: 1.5807 - val_loss: 1.8593\n",
      "Epoch 88/100\n",
      "8/8 [==============================] - 0s 11ms/step - loss: 1.5558 - val_loss: 1.8503\n",
      "Epoch 89/100\n",
      "8/8 [==============================] - 0s 11ms/step - loss: 1.5399 - val_loss: 1.8713\n",
      "Epoch 90/100\n",
      "8/8 [==============================] - 0s 11ms/step - loss: 1.5439 - val_loss: 1.8465\n",
      "Epoch 91/100\n",
      "8/8 [==============================] - 0s 11ms/step - loss: 1.5280 - val_loss: 1.8179\n",
      "Epoch 92/100\n",
      "8/8 [==============================] - 0s 12ms/step - loss: 1.5316 - val_loss: 1.8588\n",
      "Epoch 93/100\n",
      "8/8 [==============================] - 0s 11ms/step - loss: 1.5251 - val_loss: 1.8567\n",
      "Epoch 94/100\n",
      "8/8 [==============================] - 0s 11ms/step - loss: 1.5271 - val_loss: 1.8733\n",
      "Epoch 95/100\n",
      "8/8 [==============================] - 0s 11ms/step - loss: 1.5198 - val_loss: 1.8585\n",
      "Epoch 96/100\n",
      "8/8 [==============================] - 0s 12ms/step - loss: 1.5199 - val_loss: 1.8739\n",
      "Epoch 97/100\n",
      "8/8 [==============================] - 0s 11ms/step - loss: 1.5149 - val_loss: 1.8553\n",
      "Epoch 98/100\n",
      "8/8 [==============================] - 0s 11ms/step - loss: 1.5092 - val_loss: 1.8351\n",
      "Epoch 99/100\n",
      "8/8 [==============================] - 0s 12ms/step - loss: 1.5160 - val_loss: 1.8491\n",
      "Epoch 100/100\n",
      "8/8 [==============================] - 0s 11ms/step - loss: 1.5171 - val_loss: 1.8108\n",
      "Wall time: 9.58 s\n"
     ]
    }
   ],
   "source": [
    "%%time\n",
    "history = dnn_model.fit(\n",
    "    x_train,\n",
    "    y_train,\n",
    "    validation_split=0.2,\n",
    "    epochs=100)"
   ]
  },
  {
   "cell_type": "code",
   "execution_count": 175,
   "metadata": {},
   "outputs": [
    {
     "data": {
      "image/png": "[encoded data removed]",
      "text/plain": [
       "<Figure size 432x288 with 1 Axes>"
      ]
     },
     "metadata": {
      "needs_background": "light"
     },
     "output_type": "display_data"
    }
   ],
   "source": [
    "plot_loss(history)"
   ]
  },
  {
   "cell_type": "code",
   "execution_count": 178,
   "metadata": {},
   "outputs": [
    {
     "name": "stdout",
     "output_type": "stream",
     "text": [
      "3/3 [==============================] - 0s 6ms/step - loss: 2.6083\n"
     ]
    }
   ],
   "source": [
    "test_results['dnn_model'] = dnn_model.evaluate(x_test, y_test)"
   ]
  },
  {
   "cell_type": "code",
   "execution_count": null,
   "metadata": {},
   "outputs": [],
   "source": []
  }
 ],
 "metadata": {
  "kernelspec": {
   "display_name": "Python 3",
   "language": "python",
   "name": "python3"
  },
  "language_info": {
   "codemirror_mode": {
    "name": "ipython",
    "version": 3
   },
   "file_extension": ".py",
   "mimetype": "text/x-python",
   "name": "python",
   "nbconvert_exporter": "python",
   "pygments_lexer": "ipython3",
   "version": "3.7.7"
  }
 },
 "nbformat": 4,
 "nbformat_minor": 4
}
